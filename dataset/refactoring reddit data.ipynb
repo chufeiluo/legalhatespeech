{
 "cells": [
  {
   "cell_type": "code",
   "execution_count": null,
   "metadata": {},
   "outputs": [],
   "source": [
    "import os\n",
    "reddit_data = []\n",
    "root = 'data'\n",
    "\n",
    "for file in os.listdir(root):\n",
    "    if file.endswith('.txt'):\n",
    "        with open('{0}/{1}'.format(root,file), 'r') as f:\n",
    "            reddit_data.extend(f.readlines())"
   ]
  },
  {
   "cell_type": "code",
   "execution_count": null,
   "metadata": {},
   "outputs": [],
   "source": [
    "import json\n",
    "\n",
    "created = []\n",
    "text = []\n",
    "subreddit = []\n",
    "submission = []\n",
    "t = []\n",
    "id = []\n",
    "\n",
    "for r in reddit_data:\n",
    "    try:\n",
    "        temp = json.loads(r)\n",
    "    except Exception as e:\n",
    "        print(r)\n",
    "        continue\n",
    "    #print(temp.keys())\n",
    "    if 'body' not in temp:\n",
    "        text.append('{0}\\n{1}'.format(temp['title'], temp['selftext']))\n",
    "        t.append('submission')\n",
    "        submission.append(temp['fullname'])\n",
    "        \n",
    "    else:\n",
    "        text.append(temp['body'])\n",
    "        t.append('comment')\n",
    "        submission.append(temp['submission'])\n",
    "    created.append(temp['created_utc'])\n",
    "    subreddit.append(temp['subreddit'])\n",
    "    id.append(temp['fullname'])"
   ]
  },
  {
   "cell_type": "code",
   "execution_count": null,
   "metadata": {},
   "outputs": [],
   "source": [
    "import pandas as pd\n",
    "\n",
    "df = pd.DataFrame.from_dict({\n",
    "    'text': text,\n",
    "    'text_type': t,\n",
    "    'created_utc': created,\n",
    "    'subreddit': subreddit,\n",
    "    'submission': submission,\n",
    "    'reddit_id': id,\n",
    "})"
   ]
  },
  {
   "cell_type": "code",
   "execution_count": null,
   "metadata": {},
   "outputs": [],
   "source": [
    "# df.drop(columns=['data_id'], inplace=True)\n",
    "df"
   ]
  },
  {
   "cell_type": "code",
   "execution_count": null,
   "metadata": {},
   "outputs": [],
   "source": [
    "from collections import Counter\n",
    "\n",
    "Counter(df['subreddit'])"
   ]
  },
  {
   "cell_type": "code",
   "execution_count": null,
   "metadata": {},
   "outputs": [],
   "source": [
    "Counter(df['text_type'])"
   ]
  },
  {
   "cell_type": "code",
   "execution_count": null,
   "metadata": {},
   "outputs": [],
   "source": [
    "df.to_csv('reddit_data.csv')"
   ]
  },
  {
   "cell_type": "code",
   "execution_count": null,
   "metadata": {},
   "outputs": [],
   "source": []
  }
 ],
 "metadata": {
  "kernelspec": {
   "display_name": "Python 3 (ipykernel)",
   "language": "python",
   "name": "python3"
  },
  "language_info": {
   "codemirror_mode": {
    "name": "ipython",
    "version": 3
   },
   "file_extension": ".py",
   "mimetype": "text/x-python",
   "name": "python",
   "nbconvert_exporter": "python",
   "pygments_lexer": "ipython3",
   "version": "3.9.0"
  },
  "vscode": {
   "interpreter": {
    "hash": "62e0d6d3bc4f411a59808a0be8a264bf74dacde0b88c0c03b563112961a530da"
   }
  }
 },
 "nbformat": 4,
 "nbformat_minor": 2
}
