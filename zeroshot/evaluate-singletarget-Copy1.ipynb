{
 "cells": [
  {
   "cell_type": "code",
   "execution_count": 1,
   "id": "af52bf73",
   "metadata": {},
   "outputs": [],
   "source": [
    "import os\n",
    "\n",
    "files = os.listdir('.')"
   ]
  },
  {
   "cell_type": "code",
   "execution_count": 2,
   "id": "78eb4dc5",
   "metadata": {},
   "outputs": [],
   "source": [
    "import pandas as pd\n",
    "\n",
    "full_data = pd.read_csv('data/full_dataset.csv')\n"
   ]
  },
  {
   "cell_type": "code",
   "execution_count": 3,
   "id": "c4600c56",
   "metadata": {},
   "outputs": [
    {
     "name": "stdout",
     "output_type": "stream",
     "text": [
      "alpaca-tloen-alpaca-lora-7b_singletarget_nonotes_HR_nt.json.txt\n",
      "alpaca-tloen-alpaca-lora-7b_singletarget_nonotes_HR_sa.json.txt\n",
      "alpaca-tloen-alpaca-lora-7b_singletarget_nonotes_TOS_red.json.txt\n",
      "alpaca-tloen-alpaca-lora-7b_singletarget_nonotes_CC_319.json.txt\n",
      "alpaca-tloen-alpaca-lora-7b_singletarget_nonotes_HR_bc.json.txt\n",
      "alpaca-tloen-alpaca-lora-7b_singletarget_nonotes_TOS_twt.json.txt\n",
      "alpaca-tloen-alpaca-lora-7b_singletarget_nonotes_CC_318.json.txt\n",
      "alpaca-tloen-alpaca-lora-7b_singletarget_nonotes_TOS_tk.json.txt\n",
      "alpaca-tloen-alpaca-lora-7b_singletarget_nonotes_HR_ab.json.txt\n",
      "alpaca-tloen-alpaca-lora-7b_singletarget_nonotes_TOS_met.json.txt\n",
      "alpaca-tloen-alpaca-lora-7b_singletarget_nonotes_TOS_yt.json.txt\n"
     ]
    }
   ],
   "source": [
    "import re\n",
    "\n",
    "results = {}\n",
    "\n",
    "file_prefix = 'alpaca-tloen-alpaca-lora-7b'\n",
    "\n",
    "\n",
    "for file in files:\n",
    "    if file.startswith(file_prefix) and file.endswith('.txt'):\n",
    "        print(file)\n",
    "        with open(file, 'r') as f:\n",
    "            \n",
    "            data = f.readlines()\n",
    "            if 'multi' in f:\n",
    "                temp = [x.strip() for x in data]\n",
    "                print(len(temp))\n",
    "                start = -1\n",
    "                fn = file.split('.')[0]\n",
    "                results[fn] = []\n",
    "                for i in range(len(temp)):\n",
    "                    if (temp[i].startswith('Yes') or temp[i].startswith('No') or temp[i].startswith('Unclear')):\n",
    "                        if start >= 0:\n",
    "                            results[fn].append('\\n'.join(temp[start:i]).strip())\n",
    "                        start = i\n",
    "    #                 else:\n",
    "    #                     print(temp[i])\n",
    "                results[fn].append('\\n'.join(temp[start:i]))\n",
    "            else:\n",
    "                results[file.split('.')[0]] = ''.join(data).split('\\n---------***----***-----------\\n')\n",
    "#                 results[file.split('.')[0]] = [x.strip() for x in f.readlines()]"
   ]
  },
  {
   "cell_type": "code",
   "execution_count": 4,
   "id": "5ee3a8be",
   "metadata": {},
   "outputs": [
    {
     "data": {
      "text/plain": [
       "([773, 773, 773, 773, 773, 773, 773, 773, 773, 773, 773], 2204)"
      ]
     },
     "execution_count": 4,
     "metadata": {},
     "output_type": "execute_result"
    }
   ],
   "source": [
    "[len(x) for x in results.values()], len(full_data)"
   ]
  },
  {
   "cell_type": "code",
   "execution_count": 5,
   "id": "91d2cbfb",
   "metadata": {},
   "outputs": [
    {
     "name": "stdout",
     "output_type": "stream",
     "text": [
      "[' ', ' ', ' ', ' ', ' ', ' ', ' ', ' ', ' ', ' ', ' ', ' ', ' ', ' ', ' ', ' ', ' ', ' ', ' ', ' ', ' ', ' ', ' ', ' ', ' ', ' ', ' ', ' ', ' ', ' ', ' ', ' ', ' ', ' ', ' ', ' ', ' ', ' ', ' ', ' ', ' ', ' ', ' ', ' ', ' ', ' ', ' ', ' ', ' ', ' ', ' ', ' ', ' ', ' ', ' ', ' ', ' ', ' ', ' ', ' ', ' ', ' ', ' ', ' ', ' ', ' ', ' ', ' ', ' ', ' ', ' ', ' ', ' ', ' ', ' ', ' ', ' ', ' ', ' ', ' ', ' ', ' ', ' ', ' ', ' ', ' ', ' ', ' ', ' ', ' ', ' ', ' ', ' ', ' ', ' ', ' ', ' ', ' ', ' ', ' ', ' ', ' ', ' ', ' ', ' ', ' ', ' ', ' ', ' ', ' ', ' ', ' ', ' ', ' ', ' ', ' ', ' ', ' ', ' ', ' ', ' ', ' ', ' ', ' ', ' ', ' ', ' ', ' ', ' ', ' ', ' ', ' ', ' ', ' ', ' ', ' ', ' ', ' ', ' ', ' ', ' ', ' ', ' ', ' ', ' ', ' ', ' ', ' ', ' ', ' ', ' ', ' ', ' ', ' ', ' ', ' ', ' ', ' ', ' ', ' ', ' ', ' ', ' ', ' ', ' ', ' ', ' ', ' ', ' ', ' ', ' ', ' ', ' ', ' ', ' ', ' ', ' ', ' ', ' ', ' ', ' ', ' ', ' ', ' ', ' ', ' ', ' ', ' ', ' ', ' ', ' ', ' ', ' ', ' ', ' ', ' ', ' ', ' ', ' ', ' ', ' ', ' ', ' ', ' ', ' ', ' ', ' ', ' ', ' ', ' ', ' ', ' ', ' ', ' ', ' ', ' ', ' ', ' ', ' ', ' ', ' ', ' ', ' ', ' ', ' ', ' ', ' ', ' ', ' ', ' ', ' ', ' ', ' ', ' ', ' ', ' ', ' ', ' ', ' ', ' ', ' ', ' ', ' ', ' ', ' ', ' ', ' ', ' ', ' ', ' ', ' ', ' ', ' ', ' ', ' ', ' ', ' ', ' ', ' ', ' ', ' ', ' ', ' ', ' ', ' ', ' ', ' ', ' ', ' ', ' ', ' ', ' ', ' ', ' ', ' ', ' ', ' ', ' ', ' ', ' ', ' ', ' ', ' ', ' ', ' ', ' ', ' ', ' ', ' ', ' ', ' ', ' ', ' ', ' ', ' ', ' ', ' ', ' ', ' ', ' ', ' ', ' ', ' ', ' ', ' ', ' ', ' ', ' ', ' ', ' ', ' ', ' ', ' ', ' ', ' ', ' ', ' ', ' ', ' ', ' ', ' ', ' ', ' ', ' ', ' ', ' ', ' ', ' ', ' ', ' ', ' ', ' ', ' ', ' ', ' ', ' ', ' ', ' ', ' ', ' ', ' ', ' ', ' ', ' ', ' ', ' ', ' ', ' ', ' ', ' ', ' ', ' ', ' ', ' ', ' ', ' ', ' ', ' ', ' ', ' ', ' ', ' ', ' ', ' ', ' ', ' ', ' ', ' ', ' ', ' ', ' ', ' ', ' ', ' ', ' ', ' ', ' ', ' ', ' ', ' ', ' ', ' ', ' ', ' ', ' ', ' ', ' ', ' ', ' ', ' ', ' ', ' ', ' ', ' ', ' ', ' ', ' ', ' ', ' ', ' ', ' ', ' ', ' ', ' ', ' ', ' ', ' ', ' ', ' ', ' ', ' ', ' ', ' ', ' ', ' ', ' ', ' ', ' ', ' ', ' ', ' ', ' ', ' ', ' ', ' ', ' ', ' ', ' ', ' ', ' ', ' ', ' ', ' ', ' ', ' ', ' ', ' ', ' ', ' ', ' ', ' ', ' ', ' ', ' ', ' ', ' ', ' ', ' ', ' ', ' ', ' ', ' ', ' ', ' ', ' ', ' ', ' ', ' ', ' ', ' ', ' ', ' ', ' ', ' ', ' ', ' ', ' ', ' ', ' ', ' ', ' ', ' ', ' ', ' ', ' ', ' ', ' ', ' ', ' ', ' ', ' ', ' ', ' ', ' ', ' ', ' ', ' ', ' ', ' ', ' ', ' ', ' ', ' ', ' ', ' ', ' ', ' ', ' ', ' ', ' ', ' ', ' ', ' ', ' ', ' ', ' ', ' ', ' ', ' ', ' ', ' ', ' ', ' ', ' ', ' ', ' ', ' ', ' ', ' ', ' ', ' ', ' ', ' ', ' ', ' ', ' ', ' ', ' ', ' ', ' ', ' ', ' ', ' ', ' ', ' ', ' ', ' ', ' ', ' ', ' ', ' ', ' ', ' ', ' ', ' ', ' ', ' ', ' ', ' ', ' ', ' ', ' ', ' ', ' ', ' ', ' ', ' ', ' ', ' ', ' ', ' ', ' ', ' ', ' ', ' ', ' ', ' ', ' ', ' ', ' ', ' ', ' ', ' ', ' ', ' ', ' ', ' ', ' ', ' ', ' ', ' ', ' ', ' ', ' ', ' ', ' ', ' ', ' ', ' ', ' ', ' ', ' ', ' ', ' ', ' ', ' ', ' ', ' ', ' ', ' ', ' ', ' ', ' ', ' ', ' ', ' ', ' ', ' ', ' ', ' ', ' ', ' ', ' ', ' ', ' ', ' ', ' ', ' ', ' ', ' ', ' ', ' ', ' ', ' ', ' ', ' ', ' ', ' ', ' ', ' ', ' ', ' ', ' ', ' ', ' ', ' ', ' ', ' ', ' ', ' ', ' ', ' ', ' ', ' ', ' ', ' ', ' ', ' ', ' ', ' ', ' ', ' ', ' ', ' ', ' ', ' ', ' ', ' ', ' ', ' ', ' ', ' ', ' ', ' ', ' ', ' ', ' ', ' ', ' ', ' ', ' ', ' ', ' ', ' ', ' ', ' ', ' ', ' ', ' ', ' ', ' ', ' ', ' ', ' ', ' ', ' ', ' ', ' ', ' ', ' ', ' ', ' ', ' ', ' ', ' ', ' ', ' ', ' ', ' ', ' ', ' ', ' ', ' ', ' ', ' ', ' ', ' ', ' ', ' ', ' ', ' ', ' ', ' ', ' ', ' ', ' ', ' ', ' ', ' ', ' ', ' ', ' ', ' ', ' ', ' ', ' ', ' ', ' ', ' ', ' ', ' ', ' ', ' ', ' ', ' ', ' ', ' ', ' ', ' ', ' ', ' ', ' ', ' ', ' ', ' ', ' ', ' ', ' ', ' ', ' ', ' ', ' ', ' ', ' ', ' ', ' ', ' ', ' ', ' ', ' ', ' ', ' ', ' ', ' ', ' ', ' ', ' ', ' ', ' ', ' ', ' ', ' ', ' ', ' ', ' ', ' ', ' ', ' ', ' ', ' ', ' ', ' ', ' ', ' ', ' ', ' ', ' ', ' ', ' ', ' ', ' ', ' ', ' ', ' ', ' ', ' ', ' ', ' ', ' ', ' ', ' ', ' ', ' ', ' ', ' ', ' ', ' ', ' ', ' ', ' ', ' ', ' ', ' ', ' ', ' ', ' ', ' ', ' ', ' ', ' ', ' ', ' ', ' ', ' ', ' ', ' ', ' ', ' ', ' ', ' ', ' ', ' ', ' ', ' ', ' ', ' ', ' ', ' ', ' ', ' ', ' ', ' ', ' ', ' ', ' ', ' ', ' ', ' ', ' ', ' ', ' ', ' ', ' ', ' ', ' ', ' ', ' ', ' ', ' ', ' ', ' ', ' ', ' ', ' ', ' ', ' ', ' ', ' ', ' ', ' ', ' ', ' ', ' ', ' ', ' ', ' ', ' ', ' ', ' ', ' ', ' ', ' ', ' ', ' ', ' ', ' ', ' ', ' ', ' ', ' ', ' ', ' ', ' ', ' ', ' ', ' ', ' ', ' ', ' ', ' ', ' ', ' ', ' ', ' ', ' ', ' ', ' ', ' ', ' ', ' ', ' ', ' ', ' ', ' ', ' ', ' ', ' ', ' ', ' ', ' ', ' ', ' ', ' ', ' ', ' ', ' ', ' ', ' ', ' ', ' ', ' ', ' ', ' ', ' ', ' ', ' ', ' ', ' ', ' ', ' ', ' ', ' ', ' ', ' ', ' ', ' ', ' ', ' ', ' ', ' ', ' ', ' ', ' ', ' ', ' ', ' ', ' ', ' ', ' ', ' ', ' ', ' ', ' ', ' ', ' ', ' ', ' ', ' ', ' ', ' ', ' ', ' ', ' ', ' ', ' ', ' ', ' ', ' ', ' ', ' ', ' ', ' ', ' ', ' ', ' ', ' ', ' ', ' ', ' ', ' ', ' ', ' ', ' ', ' ', ' ', ' ', ' ', ' ', ' ', ' ', ' ', ' ', ' ', ' ', ' ', ' ', ' ', ' ', ' ', ' ', ' ', ' ', ' ', ' ', ' ', ' ', ' ', ' ', ' ', ' ', ' ', ' ', ' ', ' ', ' ', ' ', ' ', ' ', ' ', ' ', ' ', ' ', ' ', ' ', ' ', ' ', ' ', ' ', ' ', ' ', ' ', ' ', ' ', ' ', ' ', ' ', ' ', ' ', ' ', ' ', ' ', ' ', ' ', ' ', ' ', ' ', ' ', ' ', ' ', ' ', ' ', ' ', ' ', ' ', ' ', ' ', ' ', ' ', ' ', ' ', ' ', ' ', ' ', ' ', ' ', ' ', ' ', ' ', ' ', ' ', ' ', ' ', ' ', ' ', ' ', ' ', ' ', ' ', ' ', ' ', ' ', ' ', ' ', ' ', ' ', ' ', ' ', ' ', ' ', ' ', ' ', ' ', ' ', ' ', ' ', ' ', ' ', ' ', ' ', ' ', ' ', ' ', ' ', ' ', ' ', ' ', ' ', ' ', ' ', ' ', ' ', ' ', ' ', ' ', ' ', ' ', ' ', ' ', ' ', ' ', ' ', ' ', ' ', ' ', ' ', ' ', ' ', ' ', ' ', ' ', ' ', ' ', ' ', ' ', ' ', ' ', ' ', ' ', ' ', ' ', ' ', ' ', ' ', ' ', ' ', ' ', ' ', ' ', ' ', ' ', ' ', ' ', ' ', ' ', ' ', ' ', ' ', ' ', ' ', ' ', ' ', ' ', ' ', ' ', ' ', ' ', ' ', ' ', ' ', ' ', ' ', ' ', ' ', ' ', ' ', ' ', ' ', ' ', ' ', ' ', ' ', ' ', ' ', ' ', ' ', ' ', ' ', ' ', ' ', ' ', ' ', ' ', ' ', ' ', ' ', ' ', ' ', ' ', ' ', ' ', ' ', ' ', ' ', ' ', ' ', ' ', ' ', ' ', ' ', ' ', ' ', ' ', ' ', ' ', ' ', ' ', ' ', ' ', ' ', ' ', ' ', ' ', ' ', ' ', ' ', ' ', ' ', ' ', ' ', ' ', ' ', ' ', ' ', ' ', ' ', ' ', ' ', ' ', ' ', ' ', ' ', ' ', ' ', ' ', ' ', ' ', ' ', ' ', ' ', ' ', ' ', ' ', ' ', ' ', ' ', ' ', ' ', ' ', ' ', ' ', ' ', ' ', ' ', ' ', ' ', ' ', ' ', ' ', ' ', ' ', ' ', ' ', ' ', ' ', ' ', ' ', ' ', ' ', ' ', ' ', ' ', ' ', ' ', ' ', ' ', ' ', ' ', ' ', ' ', ' ', ' ', ' ', ' ', ' ', ' ', ' ', ' ', ' ', ' ', ' ', ' ', ' ', ' ', ' ', ' ', ' ', ' ', ' ', ' ', ' ', ' ', ' ', ' ', ' ', ' ', ' ', ' ', ' ', ' ', ' ', ' ', ' ', ' ', ' ', ' ', ' ', ' ', ' ', ' ', ' ', ' ', ' ', ' ', ' ', ' ', ' ', ' ', ' ', ' ', ' ', ' ', ' ', ' ', ' ', ' ', ' ', ' ', ' ', ' ', ' ', ' ', ' ', ' ', ' ', ' ', ' ', ' ', ' ', ' ', ' ', ' ', ' ', ' ', ' ', ' ', ' ', ' ', ' ', ' ', ' ', ' ', ' ', ' ', ' ', ' ', ' ', ' ', ' ', ' ', ' ', ' ', ' ', ' ', ' ', ' ', ' ', ' ', ' ', ' ', ' ', ' ', ' ', ' ', ' ', ' ', ' ', ' ', ' ', ' ', ' ', ' ', ' ', ' ', ' ', ' ', ' ', ' ', ' ', ' ', ' ', ' ', ' ', ' ', ' ', ' ', ' ', ' ', ' ', ' ', ' ', ' ', ' ', ' ', ' ', ' ', ' ', ' ', ' ', ' ', ' ', ' ', ' ', ' ', ' ', ' ', ' ', ' ', ' ', ' ', ' ', ' ', ' ', ' ', ' ', ' ', ' ', ' ', ' ', ' ', ' ', ' ', ' ', ' ', ' ', ' ', ' ', ' ', ' ', ' ', ' ', ' ', ' ', ' ', ' ', ' ', ' ', ' ', ' ', ' ', ' ', ' ', ' ', ' ', ' ', ' ', ' ', ' ', ' ', ' ', ' ', ' ', ' ', ' ', ' ', ' ', ' ', ' ', ' ', ' ', ' ', ' ', ' ', ' ', ' ', ' ', ' ', ' ', ' ', ' ', ' ', ' ', ' ', ' ', ' ', ' ', ' ', ' ', ' ', ' ', ' ', ' ', ' ', ' ', ' ', ' ', ' ', ' ', ' ', ' ', ' ', ' ', ' ', ' ', ' ', ' ', ' ', ' ', ' ', ' ', ' ', ' ', ' ', ' ', ' ', ' ', ' ', ' ', ' ', ' ', ' ', ' ', ' ', ' ', ' ', ' ', ' ', ' ', ' ', ' ', ' ', ' ', ' ', ' ', ' ', ' ', ' ', ' ', ' ', ' ', ' ', ' ', ' ', ' ', ' ', ' ', ' ', ' ', ' ', ' ', ' ', ' ', ' ', ' ', ' ', ' ', ' ', ' ', ' ', ' ', ' ', ' ', ' ', ' ', ' ', ' ', ' ', ' ', ' ', ' ', ' ', ' ', ' ', ' ', ' ', ' ', ' ', ' ', ' ', ' ', ' ', ' ', ' ', ' ', ' ', ' ', ' ', ' ', ' ', ' ', ' ', ' ', ' ', ' ', ' ', ' ', ' ', ' ', ' ', ' ', ' ', ' ', ' ', ' ', ' ', ' ', ' ', ' ', ' ', ' ', ' ', ' ', ' ', ' ', ' ', ' ', ' ', ' ', ' ', ' ', ' ', ' ', ' ', ' ', ' ', ' ', ' ', ' ', ' ', ' ', ' ', ' ', ' ', ' ', ' ', ' ', ' ', ' ', ' ', ' ', ' ', ' ', ' ', ' ', ' ', ' ', ' ', ' ', ' ', ' ', ' ', ' ', ' ', ' ', ' ', ' ', ' ', ' ', ' ', ' ', ' ', ' ', ' ', ' ', ' ', ' ', ' ', ' ', ' ', ' ', ' ', ' ', ' ', ' ', ' ', ' ', ' ', ' ', ' ', ' ', ' ', ' ', ' ', ' ', ' ', ' ', ' ', ' ', ' ', ' ', ' ', ' ', ' ', ' ', ' ', ' ', ' ', ' ', ' ', ' ', ' ', ' ', ' ', ' ', ' ', ' ', ' ', ' ', ' ', ' ', ' ', ' ', ' ', ' ', ' ', ' ', ' ', ' ', ' ', ' ', ' ', ' ', ' ', ' ', ' ', ' ', ' ', ' ', ' ', ' ', ' ', ' ', ' ', ' ', ' ', ' ', ' ', ' ', ' ', ' ', ' ', ' ', ' ', ' ', ' ', ' ', ' ', ' ', ' ', ' ', ' ', ' ', ' ', ' ', ' ', ' ', ' ', ' ', ' ', ' ', ' ', ' ', ' ', ' ', ' ', ' ', ' ', ' ', ' ', ' ', ' ', ' ', ' ', ' ', ' ', ' ', ' ', ' ', ' ', ' ', ' ', ' ', ' ', ' ', ' ', ' ', ' ', ' ', ' ', ' ', ' ', ' ', ' ', ' ', ' ', ' ', ' ', ' ', ' ', ' ', ' ', ' ', ' ', ' ', ' ', ' ', ' ', ' ', ' ', ' ', ' ', ' ', ' ', ' ', ' ', ' ', ' ', ' ', ' ', ' ', ' ', ' ', ' ', ' ', ' ', ' ', ' ', ' ', ' ', ' ', ' ', ' ', ' ', ' ', ' ', ' ', ' ', ' ', ' ', ' ', ' ', ' ', ' ', ' ', ' ', ' ', ' ', ' ', ' ', ' ', ' ', ' ', ' ', ' ', ' ', ' ', ' ', ' ', ' ', ' ', ' ', ' ', ' ', ' ', ' ', ' ', ' ', ' ', ' ', ' ', ' ', ' ', ' ', ' ', ' ', ' ', ' ', ' ', ' ', ' ', ' ', ' ', ' ', ' ', ' ', ' ', ' ', ' ', ' ', ' ', ' ', ' ', ' ', ' ', ' ', ' ', ' ', ' ', ' ', ' ', ' ', ' ', ' ', ' ', ' ', ' ', ' ', ' ', ' ', ' ', ' ', ' ', ' ', ' ', ' ', ' ', ' ', ' ', ' ', ' ', ' ', ' ', ' ', ' ', ' ', ' ', ' ', ' ', ' ', ' ', ' ', ' ', ' ', ' ', ' ', ' ', ' ', ' ', ' ', ' ', ' ', ' ', ' ', ' ', ' ', ' ', ' ', ' ', ' ', ' ', ' ', ' ', ' ', ' ', ' ', ' ', ' ', ' ', ' ', ' ', ' ', ' ', ' ', ' ', ' ', ' ', ' ', ' ', ' ', ' ', ' ', ' ', ' ', ' ', ' ', ' ', ' ', ' ', ' ', ' ', ' ', ' ', ' ', ' ', ' ', ' ', ' ', ' ', ' ', ' ', ' ', ' ', ' ', ' ', ' ', ' ', ' ', ' ', ' ', ' ', ' ', ' ', ' ', ' ', ' ', ' ', ' ', ' ', ' ', ' ', ' ', ' ', ' ', ' ', ' ', ' ', ' ', ' ', ' ', ' ', ' ', ' ', ' ', ' ', ' ', ' ', ' ', ' ', ' ', ' ', ' ', ' ', ' ', ' ', ' ', ' ', ' ', ' ', ' ', ' ', ' ', ' ', ' ', ' ', ' ', ' ', ' ', ' ', ' ', ' ', ' ', ' ', ' ', ' ', ' ', ' ', ' ', ' ', ' ', ' ', ' ', ' ', ' ', ' ', ' ', ' ', ' ', ' ', ' ', ' ', ' ', ' ', ' ', ' ', ' ', ' ', ' ', ' ', 2107, ' ', ' ', ' ', ' ', ' ', ' ', ' ', ' ', ' ', ' ', ' ', ' ', ' ', ' ', ' ', ' ', ' ', ' ', ' ', ' ', ' ', ' ', ' ', ' ', ' ', ' ', ' ', ' ', ' ', ' ', ' ', ' ', ' ', ' ', ' ', ' ', ' ', ' ', ' ', ' ', ' ', ' ', ' ', ' ', ' ', ' ', ' ', ' ', ' ', ' ', ' ', ' ', ' ', ' ', ' ', ' ', ' ', ' ', ' ', ' ', ' ', ' ', ' ', ' ', ' ', ' ', ' ', ' ', ' ', ' ', ' ', ' ', ' ', ' ', ' ', ' ', ' ', ' ', ' ', ' ', ' ', ' ', ' ', ' ', ' ', ' ', ' ', ' ', ' ', ' ', ' ', ' ', ' ', ' ', ' ', ' ']\n"
     ]
    }
   ],
   "source": [
    "print([(x if 'only relative alive' in full_data['text'].iloc[x] else ' ') for x in range(len(full_data))])"
   ]
  },
  {
   "cell_type": "code",
   "execution_count": 6,
   "id": "824d47de",
   "metadata": {},
   "outputs": [],
   "source": [
    "import html\n",
    "\n",
    "def clean_text(text):\n",
    "\n",
    "    inp = re.sub(r'(u/.*? |@.*?( |$))', \"<user> \", text)\n",
    "    inp = re.sub(r'\\u2019', \"'\", inp)\n",
    "    inp = re.sub(r'[“”]', '\"', inp)\n",
    "    inp = re.sub(r'\\\\u[a-f0-9]{4}', \"'\", inp)\n",
    "    inp = re.sub(r'\\(https://.*\\)', \"(URL)\", inp)\n",
    "\n",
    "    inp = re.sub(r'[\\s]{2,}', \" \", inp)\n",
    "    inp = html.unescape(inp).encode('ascii', errors='ignore').decode()\n",
    "        \n",
    "    return inp\n",
    "\n",
    "full_data['text'] = [clean_text(x).strip() for x in full_data['text'].to_list()]"
   ]
  },
  {
   "cell_type": "code",
   "execution_count": 7,
   "id": "d3681aee",
   "metadata": {},
   "outputs": [
    {
     "name": "stdout",
     "output_type": "stream",
     "text": [
      "773\n",
      "his only relative alive. My father died two years ago in a car accident.  Since my grandad's lawyer gave us the news, the only subject discussed in our home was how lucky I was and how I should administer my inheritance. At first, I didn't really listen to all this since the lawyer told me I'd have to wait a few months until I got the money.  But a month ago, my stepdad approached me and started talking about the mortgage payments and the credit card debts and how nice of me it would be to help them out and share my inheritance with my family. I didn't like the conversation at all, and when I said that I'd prefer to spend it investing in stocks and getting a college degree, he didn't look happy.  The discussion seemed odd because my stepdad owns a repair shop and always brags about his income before friends. Mom is an assistant accountant. I'm not saying there couldn't be any financial troubles, but strangely I didn't hear them talking about money problems until now. Also, the spending on me and my brother hasn't changed, and my mom changed her car a couple of months back. But since the discussion didn't repeat, I put it out of my mind.  Only yesterday, when I tried asking mom's advice about CDs, stocks, index funds, brokers and other investing stuff I read about on [Investor Junkie](URL), she acted like I was a foolish child. She shut me up and said I shouldn't worry about it since she'll take care of it.  All this fuss around my inheritance makes me nervous, and I'd like to know if my parents can spend my money until I'm 18. I wouldn't want to wake up in a year and learn that all my money is gone. I'd really appreciate your assistance here. Thanks. Int64Index([], dtype='int64')\n",
      "'NoneType' object has no attribute 'group' 772\n",
      "773\n",
      "was his only relative alive. My father died two years ago in a car accident.  Since my grandad's lawyer gave us the news, the only subject discussed in our home was how lucky I was and how I should administer my inheritance. At first, I didn't really listen to all this since the lawyer told me I'd have to wait a few months until I got the money.  But a month ago, my stepdad approached me and started talking about the mortgage payments and the credit card debts and how nice of me it would be to help them out and share my inheritance with my family. I didn't like the conversation at all, and when I said that I'd prefer to spend it investing in stocks and getting a college degree, he didn't look happy.  The discussion seemed odd because my stepdad owns a repair shop and always brags about his income before friends. Mom is an assistant accountant. I'm not saying there couldn't be any financial troubles, but strangely I didn't hear them talking about money problems until now. Also, the spending on me and my brother hasn't changed, and my mom changed her car a couple of months back. But since the discussion didn't repeat, I put it out of my mind.  Only yesterday, when I tried asking mom's advice about CDs, stocks, index funds, brokers and other investing stuff I read about on [Investor Junkie](URL), she acted like I was a foolish child. She shut me up and said I shouldn't worry about it since she'll take care of it.  All this fuss around my inheritance makes me nervous, and I'd like to know if my parents can spend my money until I'm 18. I wouldn't want to wake up in a year and learn that all my money is gone. I'd really appreciate your assistance here. Thanks. Int64Index([], dtype='int64')\n",
      "'NoneType' object has no attribute 'group' 772\n",
      "773\n",
      "his only relative alive. My father died two years ago in a car accident.  Since my grandad's lawyer gave us the news, the only subject discussed in our home was how lucky I was and how I should administer my inheritance. At first, I didn't really listen to all this since the lawyer told me I'd have to wait a few months until I got the money.  But a month ago, my stepdad approached me and started talking about the mortgage payments and the credit card debts and how nice of me it would be to help them out and share my inheritance with my family. I didn't like the conversation at all, and when I said that I'd prefer to spend it investing in stocks and getting a college degree, he didn't look happy.  The discussion seemed odd because my stepdad owns a repair shop and always brags about his income before friends. Mom is an assistant accountant. I'm not saying there couldn't be any financial troubles, but strangely I didn't hear them talking about money problems until now. Also, the spending on me and my brother hasn't changed, and my mom changed her car a couple of months back. But since the discussion didn't repeat, I put it out of my mind.  Only yesterday, when I tried asking mom's advice about CDs, stocks, index funds, brokers and other investing stuff I read about on [Investor Junkie](URL), she acted like I was a foolish child. She shut me up and said I shouldn't worry about it since she'll take care of it.  All this fuss around my inheritance makes me nervous, and I'd like to know if my parents can spend my money until I'm 18. I wouldn't want to wake up in a year and learn that all my money is gone. I'd really appreciate your assistance here. Thanks. Int64Index([], dtype='int64')\n",
      "'NoneType' object has no attribute 'group' 772\n",
      "773\n",
      "his only relative alive. My father died two years ago in a car accident.  Since my grandad's lawyer gave us the news, the only subject discussed in our home was how lucky I was and how I should administer my inheritance. At first, I didn't really listen to all this since the lawyer told me I'd have to wait a few months until I got the money.  But a month ago, my stepdad approached me and started talking about the mortgage payments and the credit card debts and how nice of me it would be to help them out and share my inheritance with my family. I didn't like the conversation at all, and when I said that I'd prefer to spend it investing in stocks and getting a college degree, he didn't look happy.  The discussion seemed odd because my stepdad owns a repair shop and always brags about his income before friends. Mom is an assistant accountant. I'm not saying there couldn't be any financial troubles, but strangely I didn't hear them talking about money problems until now. Also, the spending on me and my brother hasn't changed, and my mom changed her car a couple of months back. But since the discussion didn't repeat, I put it out of my mind.  Only yesterday, when I tried asking mom's advice about CDs, stocks, index funds, brokers and other investing stuff I read about on [Investor Junkie](URL), she acted like I was a foolish child. She shut me up and said I shouldn't worry about it since she'll take care of it.  All this fuss around my inheritance makes me nervous, and I'd like to know if my parents can spend my money until I'm 18. I wouldn't want to wake up in a year and learn that all my money is gone. I'd really appreciate your assistance here. Thanks. Int64Index([], dtype='int64')\n",
      "'NoneType' object has no attribute 'group' 772\n",
      "773\n",
      "was his only relative alive. My father died two years ago in a car accident.  Since my grandad's lawyer gave us the news, the only subject discussed in our home was how lucky I was and how I should administer my inheritance. At first, I didn't really listen to all this since the lawyer told me I'd have to wait a few months until I got the money.  But a month ago, my stepdad approached me and started talking about the mortgage payments and the credit card debts and how nice of me it would be to help them out and share my inheritance with my family. I didn't like the conversation at all, and when I said that I'd prefer to spend it investing in stocks and getting a college degree, he didn't look happy.  The discussion seemed odd because my stepdad owns a repair shop and always brags about his income before friends. Mom is an assistant accountant. I'm not saying there couldn't be any financial troubles, but strangely I didn't hear them talking about money problems until now. Also, the spending on me and my brother hasn't changed, and my mom changed her car a couple of months back. But since the discussion didn't repeat, I put it out of my mind.  Only yesterday, when I tried asking mom's advice about CDs, stocks, index funds, brokers and other investing stuff I read about on [Investor Junkie](URL), she acted like I was a foolish child. She shut me up and said I shouldn't worry about it since she'll take care of it.  All this fuss around my inheritance makes me nervous, and I'd like to know if my parents can spend my money until I'm 18. I wouldn't want to wake up in a year and learn that all my money is gone. I'd really appreciate your assistance here. Thanks. Int64Index([], dtype='int64')\n",
      "'NoneType' object has no attribute 'group' 772\n",
      "773\n"
     ]
    },
    {
     "name": "stdout",
     "output_type": "stream",
     "text": [
      "only relative alive. My father died two years ago in a car accident.  Since my grandad's lawyer gave us the news, the only subject discussed in our home was how lucky I was and how I should administer my inheritance. At first, I didn't really listen to all this since the lawyer told me I'd have to wait a few months until I got the money.  But a month ago, my stepdad approached me and started talking about the mortgage payments and the credit card debts and how nice of me it would be to help them out and share my inheritance with my family. I didn't like the conversation at all, and when I said that I'd prefer to spend it investing in stocks and getting a college degree, he didn't look happy.  The discussion seemed odd because my stepdad owns a repair shop and always brags about his income before friends. Mom is an assistant accountant. I'm not saying there couldn't be any financial troubles, but strangely I didn't hear them talking about money problems until now. Also, the spending on me and my brother hasn't changed, and my mom changed her car a couple of months back. But since the discussion didn't repeat, I put it out of my mind.  Only yesterday, when I tried asking mom's advice about CDs, stocks, index funds, brokers and other investing stuff I read about on [Investor Junkie](URL), she acted like I was a foolish child. She shut me up and said I shouldn't worry about it since she'll take care of it.  All this fuss around my inheritance makes me nervous, and I'd like to know if my parents can spend my money until I'm 18. I wouldn't want to wake up in a year and learn that all my money is gone. I'd really appreciate your assistance here. Thanks. Int64Index([], dtype='int64')\n",
      "'NoneType' object has no attribute 'group' 772\n",
      "773\n",
      "his only relative alive. My father died two years ago in a car accident.  Since my grandad's lawyer gave us the news, the only subject discussed in our home was how lucky I was and how I should administer my inheritance. At first, I didn't really listen to all this since the lawyer told me I'd have to wait a few months until I got the money.  But a month ago, my stepdad approached me and started talking about the mortgage payments and the credit card debts and how nice of me it would be to help them out and share my inheritance with my family. I didn't like the conversation at all, and when I said that I'd prefer to spend it investing in stocks and getting a college degree, he didn't look happy.  The discussion seemed odd because my stepdad owns a repair shop and always brags about his income before friends. Mom is an assistant accountant. I'm not saying there couldn't be any financial troubles, but strangely I didn't hear them talking about money problems until now. Also, the spending on me and my brother hasn't changed, and my mom changed her car a couple of months back. But since the discussion didn't repeat, I put it out of my mind.  Only yesterday, when I tried asking mom's advice about CDs, stocks, index funds, brokers and other investing stuff I read about on [Investor Junkie](URL), she acted like I was a foolish child. She shut me up and said I shouldn't worry about it since she'll take care of it.  All this fuss around my inheritance makes me nervous, and I'd like to know if my parents can spend my money until I'm 18. I wouldn't want to wake up in a year and learn that all my money is gone. I'd really appreciate your assistance here. Thanks. Int64Index([], dtype='int64')\n",
      "'NoneType' object has no attribute 'group' 772\n",
      "773\n",
      "only relative alive. My father died two years ago in a car accident.  Since my grandad's lawyer gave us the news, the only subject discussed in our home was how lucky I was and how I should administer my inheritance. At first, I didn't really listen to all this since the lawyer told me I'd have to wait a few months until I got the money.  But a month ago, my stepdad approached me and started talking about the mortgage payments and the credit card debts and how nice of me it would be to help them out and share my inheritance with my family. I didn't like the conversation at all, and when I said that I'd prefer to spend it investing in stocks and getting a college degree, he didn't look happy.  The discussion seemed odd because my stepdad owns a repair shop and always brags about his income before friends. Mom is an assistant accountant. I'm not saying there couldn't be any financial troubles, but strangely I didn't hear them talking about money problems until now. Also, the spending on me and my brother hasn't changed, and my mom changed her car a couple of months back. But since the discussion didn't repeat, I put it out of my mind.  Only yesterday, when I tried asking mom's advice about CDs, stocks, index funds, brokers and other investing stuff I read about on [Investor Junkie](URL), she acted like I was a foolish child. She shut me up and said I shouldn't worry about it since she'll take care of it.  All this fuss around my inheritance makes me nervous, and I'd like to know if my parents can spend my money until I'm 18. I wouldn't want to wake up in a year and learn that all my money is gone. I'd really appreciate your assistance here. Thanks. Int64Index([], dtype='int64')\n",
      "'NoneType' object has no attribute 'group' 772\n",
      "773\n",
      "was his only relative alive. My father died two years ago in a car accident.  Since my grandad's lawyer gave us the news, the only subject discussed in our home was how lucky I was and how I should administer my inheritance. At first, I didn't really listen to all this since the lawyer told me I'd have to wait a few months until I got the money.  But a month ago, my stepdad approached me and started talking about the mortgage payments and the credit card debts and how nice of me it would be to help them out and share my inheritance with my family. I didn't like the conversation at all, and when I said that I'd prefer to spend it investing in stocks and getting a college degree, he didn't look happy.  The discussion seemed odd because my stepdad owns a repair shop and always brags about his income before friends. Mom is an assistant accountant. I'm not saying there couldn't be any financial troubles, but strangely I didn't hear them talking about money problems until now. Also, the spending on me and my brother hasn't changed, and my mom changed her car a couple of months back. But since the discussion didn't repeat, I put it out of my mind.  Only yesterday, when I tried asking mom's advice about CDs, stocks, index funds, brokers and other investing stuff I read about on [Investor Junkie](URL), she acted like I was a foolish child. She shut me up and said I shouldn't worry about it since she'll take care of it.  All this fuss around my inheritance makes me nervous, and I'd like to know if my parents can spend my money until I'm 18. I wouldn't want to wake up in a year and learn that all my money is gone. I'd really appreciate your assistance here. Thanks. Int64Index([], dtype='int64')\n",
      "'NoneType' object has no attribute 'group' 772\n",
      "773\n",
      "his only relative alive. My father died two years ago in a car accident.  Since my grandad's lawyer gave us the news, the only subject discussed in our home was how lucky I was and how I should administer my inheritance. At first, I didn't really listen to all this since the lawyer told me I'd have to wait a few months until I got the money.  But a month ago, my stepdad approached me and started talking about the mortgage payments and the credit card debts and how nice of me it would be to help them out and share my inheritance with my family. I didn't like the conversation at all, and when I said that I'd prefer to spend it investing in stocks and getting a college degree, he didn't look happy.  The discussion seemed odd because my stepdad owns a repair shop and always brags about his income before friends. Mom is an assistant accountant. I'm not saying there couldn't be any financial troubles, but strangely I didn't hear them talking about money problems until now. Also, the spending on me and my brother hasn't changed, and my mom changed her car a couple of months back. But since the discussion didn't repeat, I put it out of my mind.  Only yesterday, when I tried asking mom's advice about CDs, stocks, index funds, brokers and other investing stuff I read about on [Investor Junkie](URL), she acted like I was a foolish child. She shut me up and said I shouldn't worry about it since she'll take care of it.  All this fuss around my inheritance makes me nervous, and I'd like to know if my parents can spend my money until I'm 18. I wouldn't want to wake up in a year and learn that all my money is gone. I'd really appreciate your assistance here. Thanks. Int64Index([], dtype='int64')\n",
      "'NoneType' object has no attribute 'group' 772\n",
      "773\n"
     ]
    },
    {
     "name": "stdout",
     "output_type": "stream",
     "text": [
      "only relative alive. My father died two years ago in a car accident.  Since my grandad's lawyer gave us the news, the only subject discussed in our home was how lucky I was and how I should administer my inheritance. At first, I didn't really listen to all this since the lawyer told me I'd have to wait a few months until I got the money.  But a month ago, my stepdad approached me and started talking about the mortgage payments and the credit card debts and how nice of me it would be to help them out and share my inheritance with my family. I didn't like the conversation at all, and when I said that I'd prefer to spend it investing in stocks and getting a college degree, he didn't look happy.  The discussion seemed odd because my stepdad owns a repair shop and always brags about his income before friends. Mom is an assistant accountant. I'm not saying there couldn't be any financial troubles, but strangely I didn't hear them talking about money problems until now. Also, the spending on me and my brother hasn't changed, and my mom changed her car a couple of months back. But since the discussion didn't repeat, I put it out of my mind.  Only yesterday, when I tried asking mom's advice about CDs, stocks, index funds, brokers and other investing stuff I read about on [Investor Junkie](URL), she acted like I was a foolish child. She shut me up and said I shouldn't worry about it since she'll take care of it.  All this fuss around my inheritance makes me nervous, and I'd like to know if my parents can spend my money until I'm 18. I wouldn't want to wake up in a year and learn that all my money is gone. I'd really appreciate your assistance here. Thanks. Int64Index([], dtype='int64')\n",
      "'NoneType' object has no attribute 'group' 772\n"
     ]
    }
   ],
   "source": [
    "from collections import Counter\n",
    "import re\n",
    "\n",
    "\n",
    "\n",
    "predictions = {}\n",
    "indices = []\n",
    "indices_tokeep = []\n",
    "hallucinations = 0\n",
    "# print(full_data.iloc[0]['text'])\n",
    "for k, v in results.items():\n",
    "#     if len(full_data) < 773:\n",
    "#         res = v[-len(full_data-1):]\n",
    "#     else:\n",
    "#         res = v\n",
    "\n",
    "    res = v\n",
    "    if len(indices) == 0:\n",
    "        print(len(res))\n",
    "        for i in range(len(res)):\n",
    "            r = res[i]\n",
    "            try:\n",
    "#                 print(r + '^^^^^^^^^^^^^^^')\n",
    "                inp = re.search(r'### Input:\\n(Post:|)((.|\\s)*?) Q:', r).group(2).strip()\n",
    "                search = full_data[(full_data['text'] == inp)].index\n",
    "                if len(search) < 1:\n",
    "                    print(inp, full_data[full_data['text'] == inp].index)\n",
    "                    indices.append([2107])\n",
    "                indices.append(full_data[full_data['text'] == inp].index)\n",
    "            except Exception as e:\n",
    "                print(e, i)\n",
    "                del v[i]\n",
    "#                 indices.append([2107])\n",
    "                \n",
    "        indices = [x for y in indices for x in y]\n",
    "        indices_tokeep = list(set(indices))\n",
    "    else:\n",
    "        print(len(res))\n",
    "        for i in range(len(res)):\n",
    "            r = res[i]\n",
    "            try:\n",
    "#                 print(r + '^^^^^^^^^^^^^^^')\n",
    "                inp = re.search(r'### Input:\\n(Post:|)((.|\\s)*?) Q:', r).group(2).strip()\n",
    "                search = full_data[(full_data['text'] == inp)].index\n",
    "                if len(search) < 1:\n",
    "                    print(inp, full_data[full_data['text'] == inp].index)\n",
    "                    indices.append([2107])\n",
    "                indices.append(full_data[full_data['text'] == inp].index)\n",
    "            except Exception as e:\n",
    "                print(e, i)\n",
    "                del v[i]\n",
    "            \n",
    "#     print(k,res[1])\n",
    "    predictions[k] = []\n",
    "    for r in res:\n",
    "        x = r.split('### Response:')[-1]\n",
    "        coarse = (2 if x.strip().startswith('Yes') else (1 if x.strip().startswith('Unclear') else (0 if x.strip().startswith('No') else -1)))\n",
    "        predictions[k].append(coarse)\n",
    "#     print(Counter(predictions[k]))\n",
    "    \n",
    "    hallucinations += Counter(predictions[k])[-1]"
   ]
  },
  {
   "cell_type": "code",
   "execution_count": 8,
   "id": "c4ef64b4",
   "metadata": {},
   "outputs": [
    {
     "data": {
      "text/plain": [
       "(2204, 772)"
      ]
     },
     "execution_count": 8,
     "metadata": {},
     "output_type": "execute_result"
    }
   ],
   "source": [
    "\n",
    "\n",
    "\n",
    "test_data = full_data.iloc[indices_tokeep]\n",
    "\n",
    "len(full_data), len(indices_tokeep)"
   ]
  },
  {
   "cell_type": "code",
   "execution_count": 20,
   "id": "7ef36226",
   "metadata": {},
   "outputs": [],
   "source": [
    "test_data.to_csv('test_final.csv')"
   ]
  },
  {
   "cell_type": "code",
   "execution_count": 21,
   "id": "d4bfc476",
   "metadata": {},
   "outputs": [
    {
     "data": {
      "text/html": [
       "<div>\n",
       "<style scoped>\n",
       "    .dataframe tbody tr th:only-of-type {\n",
       "        vertical-align: middle;\n",
       "    }\n",
       "\n",
       "    .dataframe tbody tr th {\n",
       "        vertical-align: top;\n",
       "    }\n",
       "\n",
       "    .dataframe thead th {\n",
       "        text-align: right;\n",
       "    }\n",
       "</style>\n",
       "<table border=\"1\" class=\"dataframe\">\n",
       "  <thead>\n",
       "    <tr style=\"text-align: right;\">\n",
       "      <th></th>\n",
       "      <th>Unnamed: 0.2</th>\n",
       "      <th>Unnamed: 0.1</th>\n",
       "      <th>Unnamed: 0</th>\n",
       "      <th>text</th>\n",
       "      <th>original_id</th>\n",
       "      <th>label</th>\n",
       "      <th>textorig</th>\n",
       "      <th>prev_label</th>\n",
       "      <th>finegrained</th>\n",
       "      <th>comments</th>\n",
       "      <th>...</th>\n",
       "      <th>cc_319</th>\n",
       "      <th>target_group</th>\n",
       "      <th>target</th>\n",
       "      <th>notes</th>\n",
       "      <th>source</th>\n",
       "      <th>text_type</th>\n",
       "      <th>created_utc</th>\n",
       "      <th>subreddit</th>\n",
       "      <th>submission</th>\n",
       "      <th>reddit_id</th>\n",
       "    </tr>\n",
       "  </thead>\n",
       "  <tbody>\n",
       "    <tr>\n",
       "      <th>0</th>\n",
       "      <td>0</td>\n",
       "      <td>0</td>\n",
       "      <td>0</td>\n",
       "      <td>Did he kill your sex life? Women are objects s...</td>\n",
       "      <td>1006.0</td>\n",
       "      <td>Violates</td>\n",
       "      <td>&lt;p&gt;Did he kill your sex life? Your sense of pr...</td>\n",
       "      <td>NaN</td>\n",
       "      <td>['TOS_tk', 'HR_ab', 'HR_bc', 'CC_319', 'HR_nt'...</td>\n",
       "      <td>NaN</td>\n",
       "      <td>...</td>\n",
       "      <td>1.0</td>\n",
       "      <td>['Sex/Gender identity or expression', 'Identit...</td>\n",
       "      <td>A group/attribute</td>\n",
       "      <td>['Wilful promotion of hatred', 'degrades women...</td>\n",
       "      <td>edited</td>\n",
       "      <td>NaN</td>\n",
       "      <td>NaN</td>\n",
       "      <td>NaN</td>\n",
       "      <td>NaN</td>\n",
       "      <td>NaN</td>\n",
       "    </tr>\n",
       "    <tr>\n",
       "      <th>1</th>\n",
       "      <td>1</td>\n",
       "      <td>1</td>\n",
       "      <td>1</td>\n",
       "      <td>Don't support our public schools because child...</td>\n",
       "      <td>1018.0</td>\n",
       "      <td>Violates</td>\n",
       "      <td>&lt;p&gt;And dark money.  Support our public schools...</td>\n",
       "      <td>NaN</td>\n",
       "      <td>['HR_ab', 'HR_bc', 'HR_nt', 'TOS_met', 'TOS_tw...</td>\n",
       "      <td>NaN</td>\n",
       "      <td>...</td>\n",
       "      <td>0.0</td>\n",
       "      <td>['Identity/beliefs', 'Age']</td>\n",
       "      <td>A group/attribute</td>\n",
       "      <td>['This statement exposes children to hatred; \"...</td>\n",
       "      <td>edited</td>\n",
       "      <td>NaN</td>\n",
       "      <td>NaN</td>\n",
       "      <td>NaN</td>\n",
       "      <td>NaN</td>\n",
       "      <td>NaN</td>\n",
       "    </tr>\n",
       "    <tr>\n",
       "      <th>2</th>\n",
       "      <td>2</td>\n",
       "      <td>2</td>\n",
       "      <td>2</td>\n",
       "      <td>Tricky Dick. I hope you get hit by a car the n...</td>\n",
       "      <td>1022.0</td>\n",
       "      <td>Does not violate</td>\n",
       "      <td>&lt;p&gt;Tricky Dick.&lt;/p&gt;</td>\n",
       "      <td>NaN</td>\n",
       "      <td>NaN</td>\n",
       "      <td>NaN</td>\n",
       "      <td>...</td>\n",
       "      <td>0.0</td>\n",
       "      <td>[]</td>\n",
       "      <td>An individual</td>\n",
       "      <td>[]</td>\n",
       "      <td>edited</td>\n",
       "      <td>NaN</td>\n",
       "      <td>NaN</td>\n",
       "      <td>NaN</td>\n",
       "      <td>NaN</td>\n",
       "      <td>NaN</td>\n",
       "    </tr>\n",
       "    <tr>\n",
       "      <th>3</th>\n",
       "      <td>3</td>\n",
       "      <td>3</td>\n",
       "      <td>3</td>\n",
       "      <td>Canadians are physically and mentally inferior...</td>\n",
       "      <td>1026.0</td>\n",
       "      <td>Violates</td>\n",
       "      <td>&lt;p&gt;If anyone out there in Lala Land doesn't be...</td>\n",
       "      <td>NaN</td>\n",
       "      <td>['TOS_tk', 'HR_ab', 'HR_bc', 'CC_319', 'HR_nt'...</td>\n",
       "      <td>NaN</td>\n",
       "      <td>...</td>\n",
       "      <td>1.0</td>\n",
       "      <td>['Identity/beliefs', 'National or ethnic origi...</td>\n",
       "      <td>A group/attribute</td>\n",
       "      <td>['Wilful promotion of hatred', 'Statement asse...</td>\n",
       "      <td>edited</td>\n",
       "      <td>NaN</td>\n",
       "      <td>NaN</td>\n",
       "      <td>NaN</td>\n",
       "      <td>NaN</td>\n",
       "      <td>NaN</td>\n",
       "    </tr>\n",
       "    <tr>\n",
       "      <th>4</th>\n",
       "      <td>4</td>\n",
       "      <td>4</td>\n",
       "      <td>4</td>\n",
       "      <td>Is that cat waving a Nazi banner? People with ...</td>\n",
       "      <td>1031.0</td>\n",
       "      <td>Violates</td>\n",
       "      <td>&lt;p&gt;Is that cat waving a Nazi banner? Is its na...</td>\n",
       "      <td>NaN</td>\n",
       "      <td>['TOS_tk', 'HR_ab', 'CC_318', 'HR_bc', 'CC_319...</td>\n",
       "      <td>NaN</td>\n",
       "      <td>...</td>\n",
       "      <td>1.0</td>\n",
       "      <td>['Political belief/association', 'Identity/bel...</td>\n",
       "      <td>A group/attribute</td>\n",
       "      <td>['Public incitement of hatred', 'encourages th...</td>\n",
       "      <td>edited</td>\n",
       "      <td>NaN</td>\n",
       "      <td>NaN</td>\n",
       "      <td>NaN</td>\n",
       "      <td>NaN</td>\n",
       "      <td>NaN</td>\n",
       "    </tr>\n",
       "    <tr>\n",
       "      <th>...</th>\n",
       "      <td>...</td>\n",
       "      <td>...</td>\n",
       "      <td>...</td>\n",
       "      <td>...</td>\n",
       "      <td>...</td>\n",
       "      <td>...</td>\n",
       "      <td>...</td>\n",
       "      <td>...</td>\n",
       "      <td>...</td>\n",
       "      <td>...</td>\n",
       "      <td>...</td>\n",
       "      <td>...</td>\n",
       "      <td>...</td>\n",
       "      <td>...</td>\n",
       "      <td>...</td>\n",
       "      <td>...</td>\n",
       "      <td>...</td>\n",
       "      <td>...</td>\n",
       "      <td>...</td>\n",
       "      <td>...</td>\n",
       "      <td>...</td>\n",
       "    </tr>\n",
       "    <tr>\n",
       "      <th>2199</th>\n",
       "      <td>2199</td>\n",
       "      <td>2199</td>\n",
       "      <td>474</td>\n",
       "      <td>They feed you 3 meals a day. I learned after b...</td>\n",
       "      <td>NaN</td>\n",
       "      <td>Does not violate</td>\n",
       "      <td>NaN</td>\n",
       "      <td>NaN</td>\n",
       "      <td>NaN</td>\n",
       "      <td>NaN</td>\n",
       "      <td>...</td>\n",
       "      <td>NaN</td>\n",
       "      <td>NaN</td>\n",
       "      <td>NaN</td>\n",
       "      <td>NaN</td>\n",
       "      <td>reddit</td>\n",
       "      <td>comment</td>\n",
       "      <td>1.665692e+09</td>\n",
       "      <td>funny</td>\n",
       "      <td>y30zj0</td>\n",
       "      <td>t1_is76ttn</td>\n",
       "    </tr>\n",
       "    <tr>\n",
       "      <th>2200</th>\n",
       "      <td>2200</td>\n",
       "      <td>2200</td>\n",
       "      <td>2521</td>\n",
       "      <td>A scholarship is something that pays for a por...</td>\n",
       "      <td>NaN</td>\n",
       "      <td>Does not violate</td>\n",
       "      <td>NaN</td>\n",
       "      <td>NaN</td>\n",
       "      <td>NaN</td>\n",
       "      <td>NaN</td>\n",
       "      <td>...</td>\n",
       "      <td>NaN</td>\n",
       "      <td>NaN</td>\n",
       "      <td>NaN</td>\n",
       "      <td>NaN</td>\n",
       "      <td>reddit</td>\n",
       "      <td>comment</td>\n",
       "      <td>1.685665e+09</td>\n",
       "      <td>NoStupidQuestions</td>\n",
       "      <td>13xwq07</td>\n",
       "      <td>t1_jmjsc18</td>\n",
       "    </tr>\n",
       "    <tr>\n",
       "      <th>2201</th>\n",
       "      <td>2201</td>\n",
       "      <td>2201</td>\n",
       "      <td>98</td>\n",
       "      <td>The cookie tin sewing supply stash seems to tr...</td>\n",
       "      <td>NaN</td>\n",
       "      <td>Does not violate</td>\n",
       "      <td>NaN</td>\n",
       "      <td>NaN</td>\n",
       "      <td>NaN</td>\n",
       "      <td>NaN</td>\n",
       "      <td>...</td>\n",
       "      <td>NaN</td>\n",
       "      <td>NaN</td>\n",
       "      <td>NaN</td>\n",
       "      <td>NaN</td>\n",
       "      <td>reddit</td>\n",
       "      <td>comment</td>\n",
       "      <td>1.670387e+09</td>\n",
       "      <td>AmItheAsshole</td>\n",
       "      <td>zep8g8</td>\n",
       "      <td>t1_iz875uz</td>\n",
       "    </tr>\n",
       "    <tr>\n",
       "      <th>2202</th>\n",
       "      <td>2202</td>\n",
       "      <td>2202</td>\n",
       "      <td>2851</td>\n",
       "      <td>I think Sony is going to release a Home like p...</td>\n",
       "      <td>NaN</td>\n",
       "      <td>Does not violate</td>\n",
       "      <td>NaN</td>\n",
       "      <td>NaN</td>\n",
       "      <td>NaN</td>\n",
       "      <td>NaN</td>\n",
       "      <td>...</td>\n",
       "      <td>NaN</td>\n",
       "      <td>NaN</td>\n",
       "      <td>NaN</td>\n",
       "      <td>NaN</td>\n",
       "      <td>reddit</td>\n",
       "      <td>comment</td>\n",
       "      <td>1.665608e+09</td>\n",
       "      <td>funny</td>\n",
       "      <td>y2bw1p</td>\n",
       "      <td>t1_is2kcmd</td>\n",
       "    </tr>\n",
       "    <tr>\n",
       "      <th>2203</th>\n",
       "      <td>2203</td>\n",
       "      <td>2203</td>\n",
       "      <td>3619</td>\n",
       "      <td>Fever is part of normal immune system function...</td>\n",
       "      <td>NaN</td>\n",
       "      <td>Does not violate</td>\n",
       "      <td>NaN</td>\n",
       "      <td>NaN</td>\n",
       "      <td>NaN</td>\n",
       "      <td>NaN</td>\n",
       "      <td>...</td>\n",
       "      <td>NaN</td>\n",
       "      <td>NaN</td>\n",
       "      <td>NaN</td>\n",
       "      <td>NaN</td>\n",
       "      <td>reddit</td>\n",
       "      <td>comment</td>\n",
       "      <td>1.672724e+09</td>\n",
       "      <td>Showerthoughts</td>\n",
       "      <td>101ie9d</td>\n",
       "      <td>t1_j2qgu57</td>\n",
       "    </tr>\n",
       "  </tbody>\n",
       "</table>\n",
       "<p>2204 rows × 24 columns</p>\n",
       "</div>"
      ],
      "text/plain": [
       "      Unnamed: 0.2  Unnamed: 0.1  Unnamed: 0  \\\n",
       "0                0             0           0   \n",
       "1                1             1           1   \n",
       "2                2             2           2   \n",
       "3                3             3           3   \n",
       "4                4             4           4   \n",
       "...            ...           ...         ...   \n",
       "2199          2199          2199         474   \n",
       "2200          2200          2200        2521   \n",
       "2201          2201          2201          98   \n",
       "2202          2202          2202        2851   \n",
       "2203          2203          2203        3619   \n",
       "\n",
       "                                                   text  original_id  \\\n",
       "0     Did he kill your sex life? Women are objects s...       1006.0   \n",
       "1     Don't support our public schools because child...       1018.0   \n",
       "2     Tricky Dick. I hope you get hit by a car the n...       1022.0   \n",
       "3     Canadians are physically and mentally inferior...       1026.0   \n",
       "4     Is that cat waving a Nazi banner? People with ...       1031.0   \n",
       "...                                                 ...          ...   \n",
       "2199  They feed you 3 meals a day. I learned after b...          NaN   \n",
       "2200  A scholarship is something that pays for a por...          NaN   \n",
       "2201  The cookie tin sewing supply stash seems to tr...          NaN   \n",
       "2202  I think Sony is going to release a Home like p...          NaN   \n",
       "2203  Fever is part of normal immune system function...          NaN   \n",
       "\n",
       "                 label                                           textorig  \\\n",
       "0             Violates  <p>Did he kill your sex life? Your sense of pr...   \n",
       "1             Violates  <p>And dark money.  Support our public schools...   \n",
       "2     Does not violate                                <p>Tricky Dick.</p>   \n",
       "3             Violates  <p>If anyone out there in Lala Land doesn't be...   \n",
       "4             Violates  <p>Is that cat waving a Nazi banner? Is its na...   \n",
       "...                ...                                                ...   \n",
       "2199  Does not violate                                                NaN   \n",
       "2200  Does not violate                                                NaN   \n",
       "2201  Does not violate                                                NaN   \n",
       "2202  Does not violate                                                NaN   \n",
       "2203  Does not violate                                                NaN   \n",
       "\n",
       "     prev_label                                        finegrained comments  \\\n",
       "0           NaN  ['TOS_tk', 'HR_ab', 'HR_bc', 'CC_319', 'HR_nt'...      NaN   \n",
       "1           NaN  ['HR_ab', 'HR_bc', 'HR_nt', 'TOS_met', 'TOS_tw...      NaN   \n",
       "2           NaN                                                NaN      NaN   \n",
       "3           NaN  ['TOS_tk', 'HR_ab', 'HR_bc', 'CC_319', 'HR_nt'...      NaN   \n",
       "4           NaN  ['TOS_tk', 'HR_ab', 'CC_318', 'HR_bc', 'CC_319...      NaN   \n",
       "...         ...                                                ...      ...   \n",
       "2199        NaN                                                NaN      NaN   \n",
       "2200        NaN                                                NaN      NaN   \n",
       "2201        NaN                                                NaN      NaN   \n",
       "2202        NaN                                                NaN      NaN   \n",
       "2203        NaN                                                NaN      NaN   \n",
       "\n",
       "      ...  cc_319                                       target_group  \\\n",
       "0     ...     1.0  ['Sex/Gender identity or expression', 'Identit...   \n",
       "1     ...     0.0                        ['Identity/beliefs', 'Age']   \n",
       "2     ...     0.0                                                 []   \n",
       "3     ...     1.0  ['Identity/beliefs', 'National or ethnic origi...   \n",
       "4     ...     1.0  ['Political belief/association', 'Identity/bel...   \n",
       "...   ...     ...                                                ...   \n",
       "2199  ...     NaN                                                NaN   \n",
       "2200  ...     NaN                                                NaN   \n",
       "2201  ...     NaN                                                NaN   \n",
       "2202  ...     NaN                                                NaN   \n",
       "2203  ...     NaN                                                NaN   \n",
       "\n",
       "                 target                                              notes  \\\n",
       "0     A group/attribute  ['Wilful promotion of hatred', 'degrades women...   \n",
       "1     A group/attribute  ['This statement exposes children to hatred; \"...   \n",
       "2         An individual                                                 []   \n",
       "3     A group/attribute  ['Wilful promotion of hatred', 'Statement asse...   \n",
       "4     A group/attribute  ['Public incitement of hatred', 'encourages th...   \n",
       "...                 ...                                                ...   \n",
       "2199                NaN                                                NaN   \n",
       "2200                NaN                                                NaN   \n",
       "2201                NaN                                                NaN   \n",
       "2202                NaN                                                NaN   \n",
       "2203                NaN                                                NaN   \n",
       "\n",
       "      source text_type   created_utc          subreddit submission   reddit_id  \n",
       "0     edited       NaN           NaN                NaN        NaN         NaN  \n",
       "1     edited       NaN           NaN                NaN        NaN         NaN  \n",
       "2     edited       NaN           NaN                NaN        NaN         NaN  \n",
       "3     edited       NaN           NaN                NaN        NaN         NaN  \n",
       "4     edited       NaN           NaN                NaN        NaN         NaN  \n",
       "...      ...       ...           ...                ...        ...         ...  \n",
       "2199  reddit   comment  1.665692e+09              funny     y30zj0  t1_is76ttn  \n",
       "2200  reddit   comment  1.685665e+09  NoStupidQuestions    13xwq07  t1_jmjsc18  \n",
       "2201  reddit   comment  1.670387e+09      AmItheAsshole     zep8g8  t1_iz875uz  \n",
       "2202  reddit   comment  1.665608e+09              funny     y2bw1p  t1_is2kcmd  \n",
       "2203  reddit   comment  1.672724e+09     Showerthoughts    101ie9d  t1_j2qgu57  \n",
       "\n",
       "[2204 rows x 24 columns]"
      ]
     },
     "execution_count": 21,
     "metadata": {},
     "output_type": "execute_result"
    }
   ],
   "source": [
    "full_data"
   ]
  },
  {
   "cell_type": "code",
   "execution_count": 22,
   "id": "3d06a6ce",
   "metadata": {},
   "outputs": [
    {
     "data": {
      "text/plain": [
       "0.0023551577955723034"
      ]
     },
     "execution_count": 22,
     "metadata": {},
     "output_type": "execute_result"
    }
   ],
   "source": [
    "hallucinations/sum([len(x) for x in predictions.values()])"
   ]
  },
  {
   "cell_type": "code",
   "execution_count": 23,
   "id": "54928f52",
   "metadata": {},
   "outputs": [
    {
     "ename": "KeyError",
     "evalue": "'alpaca-tloen-alpaca-lora-7b_multitarget_nonotes'",
     "output_type": "error",
     "traceback": [
      "\u001b[0;31m---------------------------------------------------------------------------\u001b[0m",
      "\u001b[0;31mKeyError\u001b[0m                                  Traceback (most recent call last)",
      "Cell \u001b[0;32mIn [23], line 1\u001b[0m\n\u001b[0;32m----> 1\u001b[0m [i \u001b[38;5;28;01mfor\u001b[39;00m i \u001b[38;5;129;01min\u001b[39;00m \u001b[38;5;28mrange\u001b[39m(\u001b[38;5;28mlen\u001b[39m(\u001b[43mresults\u001b[49m\u001b[43m[\u001b[49m\u001b[38;5;124;43m'\u001b[39;49m\u001b[38;5;132;43;01m{0}\u001b[39;49;00m\u001b[38;5;124;43m_multitarget_nonotes\u001b[39;49m\u001b[38;5;124;43m'\u001b[39;49m\u001b[38;5;241;43m.\u001b[39;49m\u001b[43mformat\u001b[49m\u001b[43m(\u001b[49m\u001b[43mfile_prefix\u001b[49m\u001b[38;5;241;43m.\u001b[39;49m\u001b[43mstrip\u001b[49m\u001b[43m(\u001b[49m\u001b[38;5;124;43m'\u001b[39;49m\u001b[38;5;124;43m_\u001b[39;49m\u001b[38;5;124;43m'\u001b[39;49m\u001b[43m)\u001b[49m\u001b[43m)\u001b[49m\u001b[43m]\u001b[49m)) \u001b[38;5;28;01mif\u001b[39;00m \u001b[38;5;124m'\u001b[39m\u001b[38;5;124msore losers\u001b[39m\u001b[38;5;124m'\u001b[39m \u001b[38;5;129;01min\u001b[39;00m results[\u001b[38;5;124m'\u001b[39m\u001b[38;5;132;01m{0}\u001b[39;00m\u001b[38;5;124m_multitarget_nonotes\u001b[39m\u001b[38;5;124m'\u001b[39m\u001b[38;5;241m.\u001b[39mformat(file_prefix\u001b[38;5;241m.\u001b[39mstrip(\u001b[38;5;124m'\u001b[39m\u001b[38;5;124m_\u001b[39m\u001b[38;5;124m'\u001b[39m))][i]]\n",
      "\u001b[0;31mKeyError\u001b[0m: 'alpaca-tloen-alpaca-lora-7b_multitarget_nonotes'"
     ]
    }
   ],
   "source": [
    "[i for i in range(len(results['{0}_multitarget_nonotes'.format(file_prefix.strip('_'))])) if 'sore losers' in results['{0}_multitarget_nonotes'.format(file_prefix.strip('_'))][i]]"
   ]
  },
  {
   "cell_type": "code",
   "execution_count": 24,
   "id": "8bab44e0",
   "metadata": {},
   "outputs": [
    {
     "ename": "KeyError",
     "evalue": "'alpaca-tloen-alpaca-lora-7b_multitarget_nonotes'",
     "output_type": "error",
     "traceback": [
      "\u001b[0;31m---------------------------------------------------------------------------\u001b[0m",
      "\u001b[0;31mKeyError\u001b[0m                                  Traceback (most recent call last)",
      "Cell \u001b[0;32mIn [24], line 1\u001b[0m\n\u001b[0;32m----> 1\u001b[0m \u001b[38;5;28mlen\u001b[39m(\u001b[43mresults\u001b[49m\u001b[43m[\u001b[49m\u001b[38;5;124;43m'\u001b[39;49m\u001b[38;5;132;43;01m{0}\u001b[39;49;00m\u001b[38;5;124;43m_multitarget_nonotes\u001b[39;49m\u001b[38;5;124;43m'\u001b[39;49m\u001b[38;5;241;43m.\u001b[39;49m\u001b[43mformat\u001b[49m\u001b[43m(\u001b[49m\u001b[43mfile_prefix\u001b[49m\u001b[43m)\u001b[49m\u001b[43m]\u001b[49m)\n",
      "\u001b[0;31mKeyError\u001b[0m: 'alpaca-tloen-alpaca-lora-7b_multitarget_nonotes'"
     ]
    }
   ],
   "source": [
    "len(results['{0}_multitarget_nonotes'.format(file_prefix)])"
   ]
  },
  {
   "cell_type": "code",
   "execution_count": 25,
   "id": "7c4c9f14",
   "metadata": {},
   "outputs": [
    {
     "data": {
      "text/plain": [
       "2204"
      ]
     },
     "execution_count": 25,
     "metadata": {},
     "output_type": "execute_result"
    }
   ],
   "source": [
    "len(full_data)"
   ]
  },
  {
   "cell_type": "code",
   "execution_count": 26,
   "id": "36d4816d",
   "metadata": {},
   "outputs": [],
   "source": [
    "\n",
    "legal_defs = pd.read_csv('legal definitions.csv')\n",
    "legal_labels = legal_defs['name'].to_list()\n",
    "defs = pd.read_csv('data/definitions.csv')"
   ]
  },
  {
   "cell_type": "code",
   "execution_count": 27,
   "id": "db71fade",
   "metadata": {},
   "outputs": [
    {
     "name": "stdout",
     "output_type": "stream",
     "text": [
      "alpaca-tloen-alpaca-lora-7b_singletarget_nonotes_CC_318\n"
     ]
    },
    {
     "ename": "ValueError",
     "evalue": "Found input variables with inconsistent numbers of samples: [2204, 772]",
     "output_type": "error",
     "traceback": [
      "\u001b[0;31m---------------------------------------------------------------------------\u001b[0m",
      "\u001b[0;31mValueError\u001b[0m                                Traceback (most recent call last)",
      "Cell \u001b[0;32mIn [27], line 21\u001b[0m\n\u001b[1;32m     19\u001b[0m pred\u001b[38;5;241m.\u001b[39mappend([(\u001b[38;5;241m1\u001b[39m \u001b[38;5;28;01mif\u001b[39;00m x \u001b[38;5;241m>\u001b[39m \u001b[38;5;241m1\u001b[39m \u001b[38;5;28;01melse\u001b[39;00m \u001b[38;5;241m0\u001b[39m) \u001b[38;5;28;01mfor\u001b[39;00m x \u001b[38;5;129;01min\u001b[39;00m predictions[r]])\n\u001b[1;32m     20\u001b[0m \u001b[38;5;28mprint\u001b[39m(r)\n\u001b[0;32m---> 21\u001b[0m \u001b[38;5;28mprint\u001b[39m(\u001b[43mf1_score\u001b[49m\u001b[43m(\u001b[49m\u001b[43mfinegrained_lab\u001b[49m\u001b[43m,\u001b[49m\u001b[43m \u001b[49m\u001b[43mpredictions\u001b[49m\u001b[43m[\u001b[49m\u001b[43mr\u001b[49m\u001b[43m]\u001b[49m\u001b[43m,\u001b[49m\u001b[43m \u001b[49m\u001b[43maverage\u001b[49m\u001b[38;5;241;43m=\u001b[39;49m\u001b[38;5;124;43m'\u001b[39;49m\u001b[38;5;124;43mmicro\u001b[39;49m\u001b[38;5;124;43m'\u001b[39;49m\u001b[43m)\u001b[49m)\n\u001b[1;32m     22\u001b[0m \u001b[38;5;28mprint\u001b[39m(f1_score(finegrained_lab, predictions[r], average\u001b[38;5;241m=\u001b[39m\u001b[38;5;124m'\u001b[39m\u001b[38;5;124mmacro\u001b[39m\u001b[38;5;124m'\u001b[39m))\n",
      "File \u001b[0;32m~/anaconda3/envs/pt2/lib/python3.8/site-packages/sklearn/metrics/_classification.py:1136\u001b[0m, in \u001b[0;36mf1_score\u001b[0;34m(y_true, y_pred, labels, pos_label, average, sample_weight, zero_division)\u001b[0m\n\u001b[1;32m   1001\u001b[0m \u001b[38;5;28;01mdef\u001b[39;00m \u001b[38;5;21mf1_score\u001b[39m(\n\u001b[1;32m   1002\u001b[0m     y_true,\n\u001b[1;32m   1003\u001b[0m     y_pred,\n\u001b[0;32m   (...)\u001b[0m\n\u001b[1;32m   1009\u001b[0m     zero_division\u001b[38;5;241m=\u001b[39m\u001b[38;5;124m\"\u001b[39m\u001b[38;5;124mwarn\u001b[39m\u001b[38;5;124m\"\u001b[39m,\n\u001b[1;32m   1010\u001b[0m ):\n\u001b[1;32m   1011\u001b[0m     \u001b[38;5;124;03m\"\"\"Compute the F1 score, also known as balanced F-score or F-measure.\u001b[39;00m\n\u001b[1;32m   1012\u001b[0m \n\u001b[1;32m   1013\u001b[0m \u001b[38;5;124;03m    The F1 score can be interpreted as a harmonic mean of the precision and\u001b[39;00m\n\u001b[0;32m   (...)\u001b[0m\n\u001b[1;32m   1134\u001b[0m \u001b[38;5;124;03m    array([0.66666667, 1.        , 0.66666667])\u001b[39;00m\n\u001b[1;32m   1135\u001b[0m \u001b[38;5;124;03m    \"\"\"\u001b[39;00m\n\u001b[0;32m-> 1136\u001b[0m     \u001b[38;5;28;01mreturn\u001b[39;00m \u001b[43mfbeta_score\u001b[49m\u001b[43m(\u001b[49m\n\u001b[1;32m   1137\u001b[0m \u001b[43m        \u001b[49m\u001b[43my_true\u001b[49m\u001b[43m,\u001b[49m\n\u001b[1;32m   1138\u001b[0m \u001b[43m        \u001b[49m\u001b[43my_pred\u001b[49m\u001b[43m,\u001b[49m\n\u001b[1;32m   1139\u001b[0m \u001b[43m        \u001b[49m\u001b[43mbeta\u001b[49m\u001b[38;5;241;43m=\u001b[39;49m\u001b[38;5;241;43m1\u001b[39;49m\u001b[43m,\u001b[49m\n\u001b[1;32m   1140\u001b[0m \u001b[43m        \u001b[49m\u001b[43mlabels\u001b[49m\u001b[38;5;241;43m=\u001b[39;49m\u001b[43mlabels\u001b[49m\u001b[43m,\u001b[49m\n\u001b[1;32m   1141\u001b[0m \u001b[43m        \u001b[49m\u001b[43mpos_label\u001b[49m\u001b[38;5;241;43m=\u001b[39;49m\u001b[43mpos_label\u001b[49m\u001b[43m,\u001b[49m\n\u001b[1;32m   1142\u001b[0m \u001b[43m        \u001b[49m\u001b[43maverage\u001b[49m\u001b[38;5;241;43m=\u001b[39;49m\u001b[43maverage\u001b[49m\u001b[43m,\u001b[49m\n\u001b[1;32m   1143\u001b[0m \u001b[43m        \u001b[49m\u001b[43msample_weight\u001b[49m\u001b[38;5;241;43m=\u001b[39;49m\u001b[43msample_weight\u001b[49m\u001b[43m,\u001b[49m\n\u001b[1;32m   1144\u001b[0m \u001b[43m        \u001b[49m\u001b[43mzero_division\u001b[49m\u001b[38;5;241;43m=\u001b[39;49m\u001b[43mzero_division\u001b[49m\u001b[43m,\u001b[49m\n\u001b[1;32m   1145\u001b[0m \u001b[43m    \u001b[49m\u001b[43m)\u001b[49m\n",
      "File \u001b[0;32m~/anaconda3/envs/pt2/lib/python3.8/site-packages/sklearn/metrics/_classification.py:1277\u001b[0m, in \u001b[0;36mfbeta_score\u001b[0;34m(y_true, y_pred, beta, labels, pos_label, average, sample_weight, zero_division)\u001b[0m\n\u001b[1;32m   1148\u001b[0m \u001b[38;5;28;01mdef\u001b[39;00m \u001b[38;5;21mfbeta_score\u001b[39m(\n\u001b[1;32m   1149\u001b[0m     y_true,\n\u001b[1;32m   1150\u001b[0m     y_pred,\n\u001b[0;32m   (...)\u001b[0m\n\u001b[1;32m   1157\u001b[0m     zero_division\u001b[38;5;241m=\u001b[39m\u001b[38;5;124m\"\u001b[39m\u001b[38;5;124mwarn\u001b[39m\u001b[38;5;124m\"\u001b[39m,\n\u001b[1;32m   1158\u001b[0m ):\n\u001b[1;32m   1159\u001b[0m     \u001b[38;5;124;03m\"\"\"Compute the F-beta score.\u001b[39;00m\n\u001b[1;32m   1160\u001b[0m \n\u001b[1;32m   1161\u001b[0m \u001b[38;5;124;03m    The F-beta score is the weighted harmonic mean of precision and recall,\u001b[39;00m\n\u001b[0;32m   (...)\u001b[0m\n\u001b[1;32m   1274\u001b[0m \u001b[38;5;124;03m    array([0.71..., 0.        , 0.        ])\u001b[39;00m\n\u001b[1;32m   1275\u001b[0m \u001b[38;5;124;03m    \"\"\"\u001b[39;00m\n\u001b[0;32m-> 1277\u001b[0m     _, _, f, _ \u001b[38;5;241m=\u001b[39m \u001b[43mprecision_recall_fscore_support\u001b[49m\u001b[43m(\u001b[49m\n\u001b[1;32m   1278\u001b[0m \u001b[43m        \u001b[49m\u001b[43my_true\u001b[49m\u001b[43m,\u001b[49m\n\u001b[1;32m   1279\u001b[0m \u001b[43m        \u001b[49m\u001b[43my_pred\u001b[49m\u001b[43m,\u001b[49m\n\u001b[1;32m   1280\u001b[0m \u001b[43m        \u001b[49m\u001b[43mbeta\u001b[49m\u001b[38;5;241;43m=\u001b[39;49m\u001b[43mbeta\u001b[49m\u001b[43m,\u001b[49m\n\u001b[1;32m   1281\u001b[0m \u001b[43m        \u001b[49m\u001b[43mlabels\u001b[49m\u001b[38;5;241;43m=\u001b[39;49m\u001b[43mlabels\u001b[49m\u001b[43m,\u001b[49m\n\u001b[1;32m   1282\u001b[0m \u001b[43m        \u001b[49m\u001b[43mpos_label\u001b[49m\u001b[38;5;241;43m=\u001b[39;49m\u001b[43mpos_label\u001b[49m\u001b[43m,\u001b[49m\n\u001b[1;32m   1283\u001b[0m \u001b[43m        \u001b[49m\u001b[43maverage\u001b[49m\u001b[38;5;241;43m=\u001b[39;49m\u001b[43maverage\u001b[49m\u001b[43m,\u001b[49m\n\u001b[1;32m   1284\u001b[0m \u001b[43m        \u001b[49m\u001b[43mwarn_for\u001b[49m\u001b[38;5;241;43m=\u001b[39;49m\u001b[43m(\u001b[49m\u001b[38;5;124;43m\"\u001b[39;49m\u001b[38;5;124;43mf-score\u001b[39;49m\u001b[38;5;124;43m\"\u001b[39;49m\u001b[43m,\u001b[49m\u001b[43m)\u001b[49m\u001b[43m,\u001b[49m\n\u001b[1;32m   1285\u001b[0m \u001b[43m        \u001b[49m\u001b[43msample_weight\u001b[49m\u001b[38;5;241;43m=\u001b[39;49m\u001b[43msample_weight\u001b[49m\u001b[43m,\u001b[49m\n\u001b[1;32m   1286\u001b[0m \u001b[43m        \u001b[49m\u001b[43mzero_division\u001b[49m\u001b[38;5;241;43m=\u001b[39;49m\u001b[43mzero_division\u001b[49m\u001b[43m,\u001b[49m\n\u001b[1;32m   1287\u001b[0m \u001b[43m    \u001b[49m\u001b[43m)\u001b[49m\n\u001b[1;32m   1288\u001b[0m     \u001b[38;5;28;01mreturn\u001b[39;00m f\n",
      "File \u001b[0;32m~/anaconda3/envs/pt2/lib/python3.8/site-packages/sklearn/metrics/_classification.py:1563\u001b[0m, in \u001b[0;36mprecision_recall_fscore_support\u001b[0;34m(y_true, y_pred, beta, labels, pos_label, average, warn_for, sample_weight, zero_division)\u001b[0m\n\u001b[1;32m   1561\u001b[0m \u001b[38;5;28;01mif\u001b[39;00m beta \u001b[38;5;241m<\u001b[39m \u001b[38;5;241m0\u001b[39m:\n\u001b[1;32m   1562\u001b[0m     \u001b[38;5;28;01mraise\u001b[39;00m \u001b[38;5;167;01mValueError\u001b[39;00m(\u001b[38;5;124m\"\u001b[39m\u001b[38;5;124mbeta should be >=0 in the F-beta score\u001b[39m\u001b[38;5;124m\"\u001b[39m)\n\u001b[0;32m-> 1563\u001b[0m labels \u001b[38;5;241m=\u001b[39m \u001b[43m_check_set_wise_labels\u001b[49m\u001b[43m(\u001b[49m\u001b[43my_true\u001b[49m\u001b[43m,\u001b[49m\u001b[43m \u001b[49m\u001b[43my_pred\u001b[49m\u001b[43m,\u001b[49m\u001b[43m \u001b[49m\u001b[43maverage\u001b[49m\u001b[43m,\u001b[49m\u001b[43m \u001b[49m\u001b[43mlabels\u001b[49m\u001b[43m,\u001b[49m\u001b[43m \u001b[49m\u001b[43mpos_label\u001b[49m\u001b[43m)\u001b[49m\n\u001b[1;32m   1565\u001b[0m \u001b[38;5;66;03m# Calculate tp_sum, pred_sum, true_sum ###\u001b[39;00m\n\u001b[1;32m   1566\u001b[0m samplewise \u001b[38;5;241m=\u001b[39m average \u001b[38;5;241m==\u001b[39m \u001b[38;5;124m\"\u001b[39m\u001b[38;5;124msamples\u001b[39m\u001b[38;5;124m\"\u001b[39m\n",
      "File \u001b[0;32m~/anaconda3/envs/pt2/lib/python3.8/site-packages/sklearn/metrics/_classification.py:1364\u001b[0m, in \u001b[0;36m_check_set_wise_labels\u001b[0;34m(y_true, y_pred, average, labels, pos_label)\u001b[0m\n\u001b[1;32m   1361\u001b[0m \u001b[38;5;28;01mif\u001b[39;00m average \u001b[38;5;129;01mnot\u001b[39;00m \u001b[38;5;129;01min\u001b[39;00m average_options \u001b[38;5;129;01mand\u001b[39;00m average \u001b[38;5;241m!=\u001b[39m \u001b[38;5;124m\"\u001b[39m\u001b[38;5;124mbinary\u001b[39m\u001b[38;5;124m\"\u001b[39m:\n\u001b[1;32m   1362\u001b[0m     \u001b[38;5;28;01mraise\u001b[39;00m \u001b[38;5;167;01mValueError\u001b[39;00m(\u001b[38;5;124m\"\u001b[39m\u001b[38;5;124maverage has to be one of \u001b[39m\u001b[38;5;124m\"\u001b[39m \u001b[38;5;241m+\u001b[39m \u001b[38;5;28mstr\u001b[39m(average_options))\n\u001b[0;32m-> 1364\u001b[0m y_type, y_true, y_pred \u001b[38;5;241m=\u001b[39m \u001b[43m_check_targets\u001b[49m\u001b[43m(\u001b[49m\u001b[43my_true\u001b[49m\u001b[43m,\u001b[49m\u001b[43m \u001b[49m\u001b[43my_pred\u001b[49m\u001b[43m)\u001b[49m\n\u001b[1;32m   1365\u001b[0m \u001b[38;5;66;03m# Convert to Python primitive type to avoid NumPy type / Python str\u001b[39;00m\n\u001b[1;32m   1366\u001b[0m \u001b[38;5;66;03m# comparison. See https://github.com/numpy/numpy/issues/6784\u001b[39;00m\n\u001b[1;32m   1367\u001b[0m present_labels \u001b[38;5;241m=\u001b[39m unique_labels(y_true, y_pred)\u001b[38;5;241m.\u001b[39mtolist()\n",
      "File \u001b[0;32m~/anaconda3/envs/pt2/lib/python3.8/site-packages/sklearn/metrics/_classification.py:84\u001b[0m, in \u001b[0;36m_check_targets\u001b[0;34m(y_true, y_pred)\u001b[0m\n\u001b[1;32m     57\u001b[0m \u001b[38;5;28;01mdef\u001b[39;00m \u001b[38;5;21m_check_targets\u001b[39m(y_true, y_pred):\n\u001b[1;32m     58\u001b[0m     \u001b[38;5;124;03m\"\"\"Check that y_true and y_pred belong to the same classification task.\u001b[39;00m\n\u001b[1;32m     59\u001b[0m \n\u001b[1;32m     60\u001b[0m \u001b[38;5;124;03m    This converts multiclass or binary types to a common shape, and raises a\u001b[39;00m\n\u001b[0;32m   (...)\u001b[0m\n\u001b[1;32m     82\u001b[0m \u001b[38;5;124;03m    y_pred : array or indicator matrix\u001b[39;00m\n\u001b[1;32m     83\u001b[0m \u001b[38;5;124;03m    \"\"\"\u001b[39;00m\n\u001b[0;32m---> 84\u001b[0m     \u001b[43mcheck_consistent_length\u001b[49m\u001b[43m(\u001b[49m\u001b[43my_true\u001b[49m\u001b[43m,\u001b[49m\u001b[43m \u001b[49m\u001b[43my_pred\u001b[49m\u001b[43m)\u001b[49m\n\u001b[1;32m     85\u001b[0m     type_true \u001b[38;5;241m=\u001b[39m type_of_target(y_true, input_name\u001b[38;5;241m=\u001b[39m\u001b[38;5;124m\"\u001b[39m\u001b[38;5;124my_true\u001b[39m\u001b[38;5;124m\"\u001b[39m)\n\u001b[1;32m     86\u001b[0m     type_pred \u001b[38;5;241m=\u001b[39m type_of_target(y_pred, input_name\u001b[38;5;241m=\u001b[39m\u001b[38;5;124m\"\u001b[39m\u001b[38;5;124my_pred\u001b[39m\u001b[38;5;124m\"\u001b[39m)\n",
      "File \u001b[0;32m~/anaconda3/envs/pt2/lib/python3.8/site-packages/sklearn/utils/validation.py:387\u001b[0m, in \u001b[0;36mcheck_consistent_length\u001b[0;34m(*arrays)\u001b[0m\n\u001b[1;32m    385\u001b[0m uniques \u001b[38;5;241m=\u001b[39m np\u001b[38;5;241m.\u001b[39munique(lengths)\n\u001b[1;32m    386\u001b[0m \u001b[38;5;28;01mif\u001b[39;00m \u001b[38;5;28mlen\u001b[39m(uniques) \u001b[38;5;241m>\u001b[39m \u001b[38;5;241m1\u001b[39m:\n\u001b[0;32m--> 387\u001b[0m     \u001b[38;5;28;01mraise\u001b[39;00m \u001b[38;5;167;01mValueError\u001b[39;00m(\n\u001b[1;32m    388\u001b[0m         \u001b[38;5;124m\"\u001b[39m\u001b[38;5;124mFound input variables with inconsistent numbers of samples: \u001b[39m\u001b[38;5;132;01m%r\u001b[39;00m\u001b[38;5;124m\"\u001b[39m\n\u001b[1;32m    389\u001b[0m         \u001b[38;5;241m%\u001b[39m [\u001b[38;5;28mint\u001b[39m(l) \u001b[38;5;28;01mfor\u001b[39;00m l \u001b[38;5;129;01min\u001b[39;00m lengths]\n\u001b[1;32m    390\u001b[0m     )\n",
      "\u001b[0;31mValueError\u001b[0m: Found input variables with inconsistent numbers of samples: [2204, 772]"
     ]
    }
   ],
   "source": [
    "import numpy as np\n",
    "\n",
    "from sklearn.metrics import f1_score, recall_score, precision_score, hamming_loss\n",
    "fine = []\n",
    "pred = []\n",
    "\n",
    "scores = [[],[],[]]\n",
    "for i in range(len(legal_labels)):\n",
    "    for r in results.keys():\n",
    "        if legal_labels[i] in r:\n",
    "            finegrained_lab = [(1 if full_data.iloc[j]['label'] == 'Meaning unclear' \n",
    "                                else (2 if (not pd.isna(full_data.iloc[j]['finegrained']) and legal_labels[i].lower() in full_data.iloc[j]['finegrained'].lower()) \n",
    "                                 else 0)) \n",
    "                               for j in range(len(full_data))]\n",
    "            \n",
    "            \n",
    "            \n",
    "            fine.append([(1 if x > 1 else 0) for x in finegrained_lab])\n",
    "            pred.append([(1 if x > 1 else 0) for x in predictions[r]])\n",
    "            print(r)\n",
    "            print(f1_score(finegrained_lab, predictions[r], average='micro'))\n",
    "            print(f1_score(finegrained_lab, predictions[r], average='macro'))\n",
    "            \n"
   ]
  },
  {
   "cell_type": "code",
   "execution_count": 28,
   "id": "a4c122ff",
   "metadata": {},
   "outputs": [
    {
     "data": {
      "text/plain": [
       "dict_keys(['alpaca-tloen-alpaca-lora-7b_singletarget_nonotes_HR_nt', 'alpaca-tloen-alpaca-lora-7b_singletarget_nonotes_HR_sa', 'alpaca-tloen-alpaca-lora-7b_singletarget_nonotes_TOS_red', 'alpaca-tloen-alpaca-lora-7b_singletarget_nonotes_CC_319', 'alpaca-tloen-alpaca-lora-7b_singletarget_nonotes_HR_bc', 'alpaca-tloen-alpaca-lora-7b_singletarget_nonotes_TOS_twt', 'alpaca-tloen-alpaca-lora-7b_singletarget_nonotes_CC_318', 'alpaca-tloen-alpaca-lora-7b_singletarget_nonotes_TOS_tk', 'alpaca-tloen-alpaca-lora-7b_singletarget_nonotes_HR_ab', 'alpaca-tloen-alpaca-lora-7b_singletarget_nonotes_TOS_met', 'alpaca-tloen-alpaca-lora-7b_singletarget_nonotes_TOS_yt'])"
      ]
     },
     "execution_count": 28,
     "metadata": {},
     "output_type": "execute_result"
    }
   ],
   "source": [
    "results.keys()"
   ]
  },
  {
   "cell_type": "code",
   "execution_count": 17,
   "id": "bce6104e",
   "metadata": {},
   "outputs": [
    {
     "name": "stdout",
     "output_type": "stream",
     "text": [
      "HR_nt\n",
      "772\n",
      "HR_sa\n",
      "772\n",
      "TOS_red\n",
      "772\n",
      "CC_319\n",
      "772\n",
      "HR_bc\n",
      "772\n",
      "TOS_twt\n",
      "772\n",
      "CC_318\n",
      "772\n",
      "TOS_tk\n",
      "772\n",
      "HR_ab\n",
      "772\n",
      "TOS_met\n",
      "772\n",
      "TOS_yt\n",
      "772\n"
     ]
    },
    {
     "ename": "IndexError",
     "evalue": "list index out of range",
     "output_type": "error",
     "traceback": [
      "\u001b[0;31m---------------------------------------------------------------------------\u001b[0m",
      "\u001b[0;31mIndexError\u001b[0m                                Traceback (most recent call last)",
      "Cell \u001b[0;32mIn [17], line 19\u001b[0m\n\u001b[1;32m     13\u001b[0m             coarse[i]\u001b[38;5;241m.\u001b[39mappend(predictions[r][i])\n\u001b[1;32m     17\u001b[0m coarse \u001b[38;5;241m=\u001b[39m [Counter(x) \u001b[38;5;28;01mfor\u001b[39;00m x \u001b[38;5;129;01min\u001b[39;00m coarse]\n\u001b[0;32m---> 19\u001b[0m coarse_pred \u001b[38;5;241m=\u001b[39m [(\u001b[38;5;241m1\u001b[39m \u001b[38;5;28;01mif\u001b[39;00m x[\u001b[38;5;241m1\u001b[39m] \u001b[38;5;241m>\u001b[39m \u001b[38;5;241m4\u001b[39m \u001b[38;5;28;01melse\u001b[39;00m \u001b[38;5;28msorted\u001b[39m(x\u001b[38;5;241m.\u001b[39mitems(), key\u001b[38;5;241m=\u001b[39m\u001b[38;5;28;01mlambda\u001b[39;00m x: x[\u001b[38;5;241m1\u001b[39m], reverse\u001b[38;5;241m=\u001b[39m\u001b[38;5;28;01mTrue\u001b[39;00m)[\u001b[38;5;241m0\u001b[39m][\u001b[38;5;241m0\u001b[39m]) \u001b[38;5;28;01mfor\u001b[39;00m x \u001b[38;5;129;01min\u001b[39;00m coarse]\n\u001b[1;32m     20\u001b[0m coarse_pred\n",
      "Cell \u001b[0;32mIn [17], line 19\u001b[0m, in \u001b[0;36m<listcomp>\u001b[0;34m(.0)\u001b[0m\n\u001b[1;32m     13\u001b[0m             coarse[i]\u001b[38;5;241m.\u001b[39mappend(predictions[r][i])\n\u001b[1;32m     17\u001b[0m coarse \u001b[38;5;241m=\u001b[39m [Counter(x) \u001b[38;5;28;01mfor\u001b[39;00m x \u001b[38;5;129;01min\u001b[39;00m coarse]\n\u001b[0;32m---> 19\u001b[0m coarse_pred \u001b[38;5;241m=\u001b[39m [(\u001b[38;5;241m1\u001b[39m \u001b[38;5;28;01mif\u001b[39;00m x[\u001b[38;5;241m1\u001b[39m] \u001b[38;5;241m>\u001b[39m \u001b[38;5;241m4\u001b[39m \u001b[38;5;28;01melse\u001b[39;00m \u001b[38;5;28;43msorted\u001b[39;49m\u001b[43m(\u001b[49m\u001b[43mx\u001b[49m\u001b[38;5;241;43m.\u001b[39;49m\u001b[43mitems\u001b[49m\u001b[43m(\u001b[49m\u001b[43m)\u001b[49m\u001b[43m,\u001b[49m\u001b[43m \u001b[49m\u001b[43mkey\u001b[49m\u001b[38;5;241;43m=\u001b[39;49m\u001b[38;5;28;43;01mlambda\u001b[39;49;00m\u001b[43m \u001b[49m\u001b[43mx\u001b[49m\u001b[43m:\u001b[49m\u001b[43m \u001b[49m\u001b[43mx\u001b[49m\u001b[43m[\u001b[49m\u001b[38;5;241;43m1\u001b[39;49m\u001b[43m]\u001b[49m\u001b[43m,\u001b[49m\u001b[43m \u001b[49m\u001b[43mreverse\u001b[49m\u001b[38;5;241;43m=\u001b[39;49m\u001b[38;5;28;43;01mTrue\u001b[39;49;00m\u001b[43m)\u001b[49m\u001b[43m[\u001b[49m\u001b[38;5;241;43m0\u001b[39;49m\u001b[43m]\u001b[49m[\u001b[38;5;241m0\u001b[39m]) \u001b[38;5;28;01mfor\u001b[39;00m x \u001b[38;5;129;01min\u001b[39;00m coarse]\n\u001b[1;32m     20\u001b[0m coarse_pred\n",
      "\u001b[0;31mIndexError\u001b[0m: list index out of range"
     ]
    }
   ],
   "source": [
    "coarse = [[] for _ in range(len(full_data))]\n",
    "\n",
    "mapping = {'Violates': 2, 'Meaning unclear': 1, 'Does not violate': 0}\n",
    "\n",
    "coarse_lab = [mapping[x] for x in full_data['label'].to_list()]\n",
    "\n",
    "for r in predictions.keys():\n",
    "    name = '_'.join(r.split('_')[-2:]).split('.')[0]\n",
    "    print(name)\n",
    "    if name in legal_labels:\n",
    "        print(len(predictions[r]))\n",
    "        for i in range(len(predictions[r])):\n",
    "            coarse[i].append(predictions[r][i])\n",
    "            \n",
    "\n",
    "            \n",
    "coarse = [Counter(x) for x in coarse]\n",
    "\n",
    "coarse_pred = [(1 if x[1] > 4 else sorted(x.items(), key=lambda x: x[1], reverse=True)[0][0]) for x in coarse]\n",
    "coarse_pred"
   ]
  },
  {
   "cell_type": "code",
   "execution_count": 18,
   "id": "6f173e8d",
   "metadata": {},
   "outputs": [
    {
     "ename": "NameError",
     "evalue": "name 'coarse_pred' is not defined",
     "output_type": "error",
     "traceback": [
      "\u001b[0;31m---------------------------------------------------------------------------\u001b[0m",
      "\u001b[0;31mNameError\u001b[0m                                 Traceback (most recent call last)",
      "Cell \u001b[0;32mIn [18], line 1\u001b[0m\n\u001b[0;32m----> 1\u001b[0m f1_score(coarse_lab, \u001b[43mcoarse_pred\u001b[49m, average\u001b[38;5;241m=\u001b[39m\u001b[38;5;124m'\u001b[39m\u001b[38;5;124mmacro\u001b[39m\u001b[38;5;124m'\u001b[39m), precision_score(coarse_lab, coarse_pred, average\u001b[38;5;241m=\u001b[39m\u001b[38;5;124m'\u001b[39m\u001b[38;5;124mmacro\u001b[39m\u001b[38;5;124m'\u001b[39m), recall_score(coarse_lab, coarse_pred, average\u001b[38;5;241m=\u001b[39m\u001b[38;5;124m'\u001b[39m\u001b[38;5;124mmacro\u001b[39m\u001b[38;5;124m'\u001b[39m), f1_score(coarse_lab, coarse_pred, average\u001b[38;5;241m=\u001b[39m\u001b[38;5;124m'\u001b[39m\u001b[38;5;124mmicro\u001b[39m\u001b[38;5;124m'\u001b[39m)\n",
      "\u001b[0;31mNameError\u001b[0m: name 'coarse_pred' is not defined"
     ]
    }
   ],
   "source": [
    "f1_score(coarse_lab, coarse_pred, average='macro'), precision_score(coarse_lab, coarse_pred, average='macro'), recall_score(coarse_lab, coarse_pred, average='macro'), f1_score(coarse_lab, coarse_pred, average='micro')"
   ]
  },
  {
   "cell_type": "code",
   "execution_count": 19,
   "id": "4ace1833",
   "metadata": {},
   "outputs": [],
   "source": [
    "fine = np.transpose(np.array(fine))\n",
    "pred = np.transpose(np.array(pred))"
   ]
  },
  {
   "cell_type": "code",
   "execution_count": null,
   "id": "11ab785a",
   "metadata": {},
   "outputs": [],
   "source": [
    "f1_score(fine, pred, average='macro'), precision_score(fine, pred, average='macro'), recall_score(fine, pred, average='macro'), f1_score(fine, pred, average='micro')"
   ]
  },
  {
   "cell_type": "code",
   "execution_count": null,
   "id": "4ee840b5",
   "metadata": {},
   "outputs": [],
   "source": [
    "results.keys()"
   ]
  },
  {
   "cell_type": "code",
   "execution_count": null,
   "id": "9928ffab",
   "metadata": {},
   "outputs": [],
   "source": [
    "import tiktoken\n",
    "\n",
    "enc = tiktoken.encoding_for_model(\"gpt-4\")\n",
    "\n",
    "len(enc.encode(''.join(full_data['text'].to_list())))"
   ]
  },
  {
   "cell_type": "code",
   "execution_count": null,
   "id": "d7d43fe0",
   "metadata": {},
   "outputs": [],
   "source": [
    "pd.Series([len(enc.encode(x)) for x in full_data['text'].to_list()]).describe()"
   ]
  },
  {
   "cell_type": "code",
   "execution_count": null,
   "id": "4ffe4474",
   "metadata": {},
   "outputs": [],
   "source": []
  },
  {
   "cell_type": "code",
   "execution_count": null,
   "id": "dfc54257",
   "metadata": {},
   "outputs": [],
   "source": [
    "import json\n",
    "\n",
    "with open('falcon_answers.json', 'r') as f:\n",
    "    results = json.loads(f.readline())"
   ]
  }
 ],
 "metadata": {
  "kernelspec": {
   "display_name": "Python 3 (ipykernel)",
   "language": "python",
   "name": "python3"
  },
  "language_info": {
   "codemirror_mode": {
    "name": "ipython",
    "version": 3
   },
   "file_extension": ".py",
   "mimetype": "text/x-python",
   "name": "python",
   "nbconvert_exporter": "python",
   "pygments_lexer": "ipython3",
   "version": "3.9.0"
  }
 },
 "nbformat": 4,
 "nbformat_minor": 5
}
