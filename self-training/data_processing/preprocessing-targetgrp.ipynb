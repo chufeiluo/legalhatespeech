{
 "cells": [
  {
   "cell_type": "code",
   "execution_count": 3,
   "id": "15a23462",
   "metadata": {},
   "outputs": [
    {
     "name": "stdout",
     "output_type": "stream",
     "text": [
      "Tue Jun 13 19:11:58 2023       \r\n",
      "+-----------------------------------------------------------------------------+\r\n",
      "| NVIDIA-SMI 510.108.03   Driver Version: 510.108.03   CUDA Version: 11.6     |\r\n",
      "|-------------------------------+----------------------+----------------------+\r\n",
      "| GPU  Name        Persistence-M| Bus-Id        Disp.A | Volatile Uncorr. ECC |\r\n",
      "| Fan  Temp  Perf  Pwr:Usage/Cap|         Memory-Usage | GPU-Util  Compute M. |\r\n",
      "|                               |                      |               MIG M. |\r\n",
      "|===============================+======================+======================|\r\n",
      "|   0  NVIDIA GeForce ...  Off  | 00000000:09:00.0 Off |                  N/A |\r\n",
      "|  0%   25C    P8    22W / 350W |      5MiB / 24576MiB |      0%      Default |\r\n",
      "|                               |                      |                  N/A |\r\n",
      "+-------------------------------+----------------------+----------------------+\r\n",
      "|   1  NVIDIA GeForce ...  Off  | 00000000:41:00.0 Off |                  N/A |\r\n",
      "|  0%   30C    P8    23W / 350W |     19MiB / 24576MiB |      0%      Default |\r\n",
      "|                               |                      |                  N/A |\r\n",
      "+-------------------------------+----------------------+----------------------+\r\n",
      "                                                                               \r\n",
      "+-----------------------------------------------------------------------------+\r\n",
      "| Processes:                                                                  |\r\n",
      "|  GPU   GI   CI        PID   Type   Process name                  GPU Memory |\r\n",
      "|        ID   ID                                                   Usage      |\r\n",
      "|=============================================================================|\r\n",
      "|    0   N/A  N/A      1936      G   /usr/lib/xorg/Xorg                  4MiB |\r\n",
      "|    1   N/A  N/A      1936      G   /usr/lib/xorg/Xorg                  9MiB |\r\n",
      "|    1   N/A  N/A      2111      G   /usr/bin/gnome-shell                8MiB |\r\n",
      "+-----------------------------------------------------------------------------+\r\n"
     ]
    }
   ],
   "source": [
    "!nvidia-smi"
   ]
  },
  {
   "cell_type": "code",
   "execution_count": 4,
   "id": "4cced785",
   "metadata": {},
   "outputs": [],
   "source": [
    "import os\n",
    "os.environ['CUDA_VISIBLE_DEVICES'] = '0'"
   ]
  },
  {
   "cell_type": "code",
   "execution_count": 15,
   "id": "4a5189d5",
   "metadata": {},
   "outputs": [],
   "source": [
    "from train_utils import TrainWrap\n",
    "import pandas as pd\n",
    "\n",
    "\n",
    "model_ckpt = 'roberta-base'\n",
    "\n",
    "tw = TrainWrap(model_ckpt)\n",
    "\n",
    "#train_text = pd.read_csv('data/train.tsv', delimiter='\\t')\n",
    "#val_text = pd.read_csv('data/validate.tsv', delimiter='\\t')\n",
    "\n",
    "#train, train_enc = tw.preprocess(train_text, 'implicit_class')\n",
    "\n",
    "train_text = pd.read_csv(\"data/SBIC.v2/SBIC.v2.agg.trn.csv\")\n",
    "val_text = pd.read_csv(\"data/SBIC.v2/SBIC.v2.agg.dev.csv\")\n",
    "#test_text = pd.read_csv('data/test.tsv', delimiter='\\t')"
   ]
  },
  {
   "cell_type": "code",
   "execution_count": 17,
   "id": "ef3327ba",
   "metadata": {},
   "outputs": [
    {
     "ename": "ValueError",
     "evalue": "malformed node or string: []",
     "output_type": "error",
     "traceback": [
      "\u001b[0;31m---------------------------------------------------------------------------\u001b[0m",
      "\u001b[0;31mValueError\u001b[0m                                Traceback (most recent call last)",
      "Cell \u001b[0;32mIn [17], line 4\u001b[0m\n\u001b[1;32m      1\u001b[0m \u001b[38;5;28;01mfrom\u001b[39;00m \u001b[38;5;21;01mcollections\u001b[39;00m \u001b[38;5;28;01mimport\u001b[39;00m Counter\n\u001b[1;32m      2\u001b[0m \u001b[38;5;28;01mimport\u001b[39;00m \u001b[38;5;21;01mast\u001b[39;00m\n\u001b[0;32m----> 4\u001b[0m train_text[\u001b[38;5;124m'\u001b[39m\u001b[38;5;124mtargetCategory\u001b[39m\u001b[38;5;124m'\u001b[39m] \u001b[38;5;241m=\u001b[39m [ast\u001b[38;5;241m.\u001b[39mliteral_eval(x) \u001b[38;5;28;01mfor\u001b[39;00m x \u001b[38;5;129;01min\u001b[39;00m train_text[\u001b[38;5;124m'\u001b[39m\u001b[38;5;124mtargetCategory\u001b[39m\u001b[38;5;124m'\u001b[39m]]\n\u001b[1;32m      5\u001b[0m val_text[\u001b[38;5;124m'\u001b[39m\u001b[38;5;124mtargetCategory\u001b[39m\u001b[38;5;124m'\u001b[39m] \u001b[38;5;241m=\u001b[39m [ast\u001b[38;5;241m.\u001b[39mliteral_eval(x) \u001b[38;5;28;01mfor\u001b[39;00m x \u001b[38;5;129;01min\u001b[39;00m val_text[\u001b[38;5;124m'\u001b[39m\u001b[38;5;124mtargetCategory\u001b[39m\u001b[38;5;124m'\u001b[39m]]\n\u001b[1;32m      6\u001b[0m counts \u001b[38;5;241m=\u001b[39m Counter([y \u001b[38;5;28;01mfor\u001b[39;00m x \u001b[38;5;129;01min\u001b[39;00m train_text[\u001b[38;5;124m'\u001b[39m\u001b[38;5;124mtargetCategory\u001b[39m\u001b[38;5;124m'\u001b[39m]\u001b[38;5;241m.\u001b[39mto_list() \u001b[38;5;28;01mfor\u001b[39;00m y \u001b[38;5;129;01min\u001b[39;00m x])\n",
      "Cell \u001b[0;32mIn [17], line 4\u001b[0m, in \u001b[0;36m<listcomp>\u001b[0;34m(.0)\u001b[0m\n\u001b[1;32m      1\u001b[0m \u001b[38;5;28;01mfrom\u001b[39;00m \u001b[38;5;21;01mcollections\u001b[39;00m \u001b[38;5;28;01mimport\u001b[39;00m Counter\n\u001b[1;32m      2\u001b[0m \u001b[38;5;28;01mimport\u001b[39;00m \u001b[38;5;21;01mast\u001b[39;00m\n\u001b[0;32m----> 4\u001b[0m train_text[\u001b[38;5;124m'\u001b[39m\u001b[38;5;124mtargetCategory\u001b[39m\u001b[38;5;124m'\u001b[39m] \u001b[38;5;241m=\u001b[39m [\u001b[43mast\u001b[49m\u001b[38;5;241;43m.\u001b[39;49m\u001b[43mliteral_eval\u001b[49m\u001b[43m(\u001b[49m\u001b[43mx\u001b[49m\u001b[43m)\u001b[49m \u001b[38;5;28;01mfor\u001b[39;00m x \u001b[38;5;129;01min\u001b[39;00m train_text[\u001b[38;5;124m'\u001b[39m\u001b[38;5;124mtargetCategory\u001b[39m\u001b[38;5;124m'\u001b[39m]]\n\u001b[1;32m      5\u001b[0m val_text[\u001b[38;5;124m'\u001b[39m\u001b[38;5;124mtargetCategory\u001b[39m\u001b[38;5;124m'\u001b[39m] \u001b[38;5;241m=\u001b[39m [ast\u001b[38;5;241m.\u001b[39mliteral_eval(x) \u001b[38;5;28;01mfor\u001b[39;00m x \u001b[38;5;129;01min\u001b[39;00m val_text[\u001b[38;5;124m'\u001b[39m\u001b[38;5;124mtargetCategory\u001b[39m\u001b[38;5;124m'\u001b[39m]]\n\u001b[1;32m      6\u001b[0m counts \u001b[38;5;241m=\u001b[39m Counter([y \u001b[38;5;28;01mfor\u001b[39;00m x \u001b[38;5;129;01min\u001b[39;00m train_text[\u001b[38;5;124m'\u001b[39m\u001b[38;5;124mtargetCategory\u001b[39m\u001b[38;5;124m'\u001b[39m]\u001b[38;5;241m.\u001b[39mto_list() \u001b[38;5;28;01mfor\u001b[39;00m y \u001b[38;5;129;01min\u001b[39;00m x])\n",
      "File \u001b[0;32m~/anaconda3/envs/pt2/lib/python3.8/ast.py:99\u001b[0m, in \u001b[0;36mliteral_eval\u001b[0;34m(node_or_string)\u001b[0m\n\u001b[1;32m     97\u001b[0m                 \u001b[38;5;28;01mreturn\u001b[39;00m left \u001b[38;5;241m-\u001b[39m right\n\u001b[1;32m     98\u001b[0m     \u001b[38;5;28;01mreturn\u001b[39;00m _convert_signed_num(node)\n\u001b[0;32m---> 99\u001b[0m \u001b[38;5;28;01mreturn\u001b[39;00m \u001b[43m_convert\u001b[49m\u001b[43m(\u001b[49m\u001b[43mnode_or_string\u001b[49m\u001b[43m)\u001b[49m\n",
      "File \u001b[0;32m~/anaconda3/envs/pt2/lib/python3.8/ast.py:98\u001b[0m, in \u001b[0;36mliteral_eval.<locals>._convert\u001b[0;34m(node)\u001b[0m\n\u001b[1;32m     96\u001b[0m         \u001b[38;5;28;01melse\u001b[39;00m:\n\u001b[1;32m     97\u001b[0m             \u001b[38;5;28;01mreturn\u001b[39;00m left \u001b[38;5;241m-\u001b[39m right\n\u001b[0;32m---> 98\u001b[0m \u001b[38;5;28;01mreturn\u001b[39;00m \u001b[43m_convert_signed_num\u001b[49m\u001b[43m(\u001b[49m\u001b[43mnode\u001b[49m\u001b[43m)\u001b[49m\n",
      "File \u001b[0;32m~/anaconda3/envs/pt2/lib/python3.8/ast.py:75\u001b[0m, in \u001b[0;36mliteral_eval.<locals>._convert_signed_num\u001b[0;34m(node)\u001b[0m\n\u001b[1;32m     73\u001b[0m     \u001b[38;5;28;01melse\u001b[39;00m:\n\u001b[1;32m     74\u001b[0m         \u001b[38;5;28;01mreturn\u001b[39;00m \u001b[38;5;241m-\u001b[39m operand\n\u001b[0;32m---> 75\u001b[0m \u001b[38;5;28;01mreturn\u001b[39;00m \u001b[43m_convert_num\u001b[49m\u001b[43m(\u001b[49m\u001b[43mnode\u001b[49m\u001b[43m)\u001b[49m\n",
      "File \u001b[0;32m~/anaconda3/envs/pt2/lib/python3.8/ast.py:66\u001b[0m, in \u001b[0;36mliteral_eval.<locals>._convert_num\u001b[0;34m(node)\u001b[0m\n\u001b[1;32m     64\u001b[0m \u001b[38;5;28;01mdef\u001b[39;00m \u001b[38;5;21m_convert_num\u001b[39m(node):\n\u001b[1;32m     65\u001b[0m     \u001b[38;5;28;01mif\u001b[39;00m \u001b[38;5;129;01mnot\u001b[39;00m \u001b[38;5;28misinstance\u001b[39m(node, Constant) \u001b[38;5;129;01mor\u001b[39;00m \u001b[38;5;28mtype\u001b[39m(node\u001b[38;5;241m.\u001b[39mvalue) \u001b[38;5;129;01mnot\u001b[39;00m \u001b[38;5;129;01min\u001b[39;00m (\u001b[38;5;28mint\u001b[39m, \u001b[38;5;28mfloat\u001b[39m, \u001b[38;5;28mcomplex\u001b[39m):\n\u001b[0;32m---> 66\u001b[0m         \u001b[43m_raise_malformed_node\u001b[49m\u001b[43m(\u001b[49m\u001b[43mnode\u001b[49m\u001b[43m)\u001b[49m\n\u001b[1;32m     67\u001b[0m     \u001b[38;5;28;01mreturn\u001b[39;00m node\u001b[38;5;241m.\u001b[39mvalue\n",
      "File \u001b[0;32m~/anaconda3/envs/pt2/lib/python3.8/ast.py:63\u001b[0m, in \u001b[0;36mliteral_eval.<locals>._raise_malformed_node\u001b[0;34m(node)\u001b[0m\n\u001b[1;32m     62\u001b[0m \u001b[38;5;28;01mdef\u001b[39;00m \u001b[38;5;21m_raise_malformed_node\u001b[39m(node):\n\u001b[0;32m---> 63\u001b[0m     \u001b[38;5;28;01mraise\u001b[39;00m \u001b[38;5;167;01mValueError\u001b[39;00m(\u001b[38;5;124mf\u001b[39m\u001b[38;5;124m'\u001b[39m\u001b[38;5;124mmalformed node or string: \u001b[39m\u001b[38;5;132;01m{\u001b[39;00mnode\u001b[38;5;132;01m!r}\u001b[39;00m\u001b[38;5;124m'\u001b[39m)\n",
      "\u001b[0;31mValueError\u001b[0m: malformed node or string: []"
     ]
    }
   ],
   "source": [
    "from collections import Counter\n",
    "import ast\n",
    "\n",
    "train_text['targetCategory'] = [ast.literal_eval(x) for x in train_text['targetCategory']]\n",
    "val_text['targetCategory'] = [ast.literal_eval(x) for x in val_text['targetCategory']]\n",
    "counts = Counter([y for x in train_text['targetCategory'].to_list() for y in x])\n",
    "labels = list(counts.keys())\n"
   ]
  },
  {
   "cell_type": "code",
   "execution_count": 58,
   "id": "dab6132b",
   "metadata": {},
   "outputs": [],
   "source": [
    "from ast import literal_eval\n",
    "import html\n",
    "\n",
    "import re\n",
    "\n",
    "\n",
    "def process_alpaca(text, label, instruction=None):\n",
    "#     instruction = defs\n",
    "    \n",
    "    out = {'instruction': [],\n",
    "           'input': [],\n",
    "           'output': []\n",
    "          \n",
    "          }\n",
    "    \n",
    "    for i in range(len(text)):\n",
    "        outp = literal_eval(label[i])\n",
    "        if len(outp) == 0:\n",
    "            outp = 'N/A'\n",
    "        else:\n",
    "            outp = ', '.join(outp).strip()\n",
    "            \n",
    "        inp = text[i].strip()\n",
    "        inp = re.sub(r'(u/.*? |@.*?( |$))', \"<user> \", inp)\n",
    "        inp = re.sub('\\u2019', \"'\", inp)\n",
    "        inp = re.sub('[“”]', '\"', inp)\n",
    "        inp = re.sub(r'\\\\u[a-f0-9]{4}', \"'\", inp)\n",
    "        inp = re.sub(r'\\(https://.*\\)', \"(URL)\", inp)\n",
    "\n",
    "        inp = re.sub(r'[\\s]{2,}', \" \", inp)\n",
    "        inp = html.unescape(inp).encode('ascii', errors='ignore').decode()\n",
    "        \n",
    "        out['instruction'].append(instruction)\n",
    "        out['input'].append(inp)\n",
    "        out['output'].append(outp)\n",
    "    return out"
   ]
  },
  {
   "cell_type": "code",
   "execution_count": 61,
   "id": "f727347c",
   "metadata": {},
   "outputs": [],
   "source": [
    "instruction = \"Please reply with the group or attribute targeted by this statement. If there is no target, output N/A.\"\n",
    "\n",
    "train_enc = process_alpaca(train_text['post'].to_list(), train_text['targetMinority'].to_list(), instruction=instruction)"
   ]
  },
  {
   "cell_type": "code",
   "execution_count": 68,
   "id": "3337c9d7",
   "metadata": {},
   "outputs": [
    {
     "data": {
      "text/plain": [
       "(35424, 35424)"
      ]
     },
     "execution_count": 68,
     "metadata": {},
     "output_type": "execute_result"
    }
   ],
   "source": [
    "len(train_enc['input']), len(train_text)"
   ]
  },
  {
   "cell_type": "code",
   "execution_count": 63,
   "id": "a6a3db33",
   "metadata": {},
   "outputs": [],
   "source": [
    "from datasets import Dataset\n",
    "\n",
    "train = Dataset.from_dict(train_enc)"
   ]
  },
  {
   "cell_type": "code",
   "execution_count": 65,
   "id": "5f4108af",
   "metadata": {},
   "outputs": [
    {
     "data": {
      "application/vnd.jupyter.widget-view+json": {
       "model_id": "a45d8f9f6ff04017bad11eeb71ecffdb",
       "version_major": 2,
       "version_minor": 0
      },
      "text/plain": [
       "Creating json from Arrow format:   0%|          | 0/4 [00:00<?, ?ba/s]"
      ]
     },
     "metadata": {},
     "output_type": "display_data"
    },
    {
     "data": {
      "text/plain": [
       "9308127"
      ]
     },
     "execution_count": 65,
     "metadata": {},
     "output_type": "execute_result"
    }
   ],
   "source": [
    "train.to_json('targetCategory.json')"
   ]
  },
  {
   "cell_type": "code",
   "execution_count": null,
   "id": "f0626413",
   "metadata": {},
   "outputs": [],
   "source": []
  }
 ],
 "metadata": {
  "kernelspec": {
   "display_name": "Python 3 (ipykernel)",
   "language": "python",
   "name": "python3"
  },
  "language_info": {
   "codemirror_mode": {
    "name": "ipython",
    "version": 3
   },
   "file_extension": ".py",
   "mimetype": "text/x-python",
   "name": "python",
   "nbconvert_exporter": "python",
   "pygments_lexer": "ipython3",
   "version": "3.8.5"
  }
 },
 "nbformat": 4,
 "nbformat_minor": 5
}
