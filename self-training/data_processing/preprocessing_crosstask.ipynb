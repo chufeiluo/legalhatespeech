{
 "cells": [
  {
   "cell_type": "code",
   "execution_count": 2,
   "id": "f9285d21",
   "metadata": {},
   "outputs": [],
   "source": [
    "import os\n",
    "os.environ['CUDA_VISIBLE_DEVICES'] = '0'"
   ]
  },
  {
   "cell_type": "code",
   "execution_count": 3,
   "id": "32c0383e",
   "metadata": {},
   "outputs": [
    {
     "name": "stderr",
     "output_type": "stream",
     "text": [
      "/home/14cfl/anaconda3/envs/pt2/lib/python3.8/site-packages/transformers/generation_utils.py:24: FutureWarning: Importing `GenerationMixin` from `src/transformers/generation_utils.py` is deprecated and will be removed in Transformers v5. Import as `from transformers import GenerationMixin` instead.\n",
      "  warnings.warn(\n"
     ]
    }
   ],
   "source": [
    "from train_utils import TrainWrap\n",
    "import pandas as pd\n",
    "\n",
    "\n",
    "model_ckpt = 'roberta-base'\n",
    "\n",
    "tw = TrainWrap(model_ckpt)\n"
   ]
  },
  {
   "cell_type": "code",
   "execution_count": null,
   "id": "7b13a008",
   "metadata": {},
   "outputs": [],
   "source": [
    "\n"
   ]
  },
  {
   "cell_type": "code",
   "execution_count": 4,
   "id": "a353a60e",
   "metadata": {},
   "outputs": [
    {
     "name": "stderr",
     "output_type": "stream",
     "text": [
      "/tmp/ipykernel_388145/996258701.py:3: FutureWarning: The frame.append method is deprecated and will be removed from pandas in a future version. Use pandas.concat instead.\n",
      "  defs = defs.append({'promptName': 'hate speech', 'name': 'hate_speech_score_sigmoid',\n",
      "/tmp/ipykernel_388145/996258701.py:6: FutureWarning: The frame.append method is deprecated and will be removed from pandas in a future version. Use pandas.concat instead.\n",
      "  defs = defs.append({'promptName': 'Implicit Hatred', 'name': 'other',\n",
      "/tmp/ipykernel_388145/996258701.py:9: FutureWarning: The frame.append method is deprecated and will be removed from pandas in a future version. Use pandas.concat instead.\n",
      "  defs = defs.append({'promptName': 'Hate Speech', 'name': 'labels',\n",
      "/tmp/ipykernel_388145/996258701.py:14: FutureWarning: The frame.append method is deprecated and will be removed from pandas in a future version. Use pandas.concat instead.\n",
      "  defs = defs.append({'promptName': 'Dehumanization', 'name': 'dehumanize',\n",
      "/tmp/ipykernel_388145/996258701.py:18: FutureWarning: The frame.append method is deprecated and will be removed from pandas in a future version. Use pandas.concat instead.\n",
      "  defs = defs.append({'promptName': 'Violent language', 'name': 'violence',\n",
      "/tmp/ipykernel_388145/996258701.py:22: FutureWarning: The frame.append method is deprecated and will be removed from pandas in a future version. Use pandas.concat instead.\n",
      "  defs = defs.append({'promptName': 'Genocide', 'name': 'genocide',\n",
      "/tmp/ipykernel_388145/996258701.py:26: FutureWarning: The frame.append method is deprecated and will be removed from pandas in a future version. Use pandas.concat instead.\n",
      "  defs = defs.append({'promptName': 'Respect', 'name': 'respect',\n",
      "/tmp/ipykernel_388145/996258701.py:29: FutureWarning: The frame.append method is deprecated and will be removed from pandas in a future version. Use pandas.concat instead.\n",
      "  defs = defs.append({'promptName': 'Insult', 'name': 'insult',\n",
      "/tmp/ipykernel_388145/996258701.py:33: FutureWarning: The frame.append method is deprecated and will be removed from pandas in a future version. Use pandas.concat instead.\n",
      "  defs = defs.append({'promptName': 'Humiliation', 'name': 'humiliate',\n",
      "/tmp/ipykernel_388145/996258701.py:37: FutureWarning: The frame.append method is deprecated and will be removed from pandas in a future version. Use pandas.concat instead.\n",
      "  defs = defs.append({'promptName': 'Superiority', 'name': 'status',\n",
      "/tmp/ipykernel_388145/996258701.py:40: FutureWarning: The frame.append method is deprecated and will be removed from pandas in a future version. Use pandas.concat instead.\n",
      "  defs = defs.append({'promptName': 'Attack', 'name': 'attack_defend',\n"
     ]
    }
   ],
   "source": [
    "defs = pd.read_csv('data/definitions.csv')\n",
    "\n",
    "defs = defs.append({'promptName': 'hate speech', 'name': 'hate_speech_score_sigmoid', \n",
    "                    'definition': 'bias-motivated, hostile and malicious language targeted at a person/group because of their actual or perceived innate characteristics, especially when the group is unnecessarily labeled'\n",
    "                   }, ignore_index=True)\n",
    "defs = defs.append({'promptName': 'Implicit Hatred', 'name': 'other', \n",
    "                    'definition': 'the use of coded or indirect language such as sarcasm, metaphor and circumlocution to disparage a protected group or individual, or to convey prejudicial and harmful views about them'\n",
    "                   }, ignore_index=True)\n",
    "defs = defs.append({'promptName': 'Hate Speech', 'name': 'labels', \n",
    "                    'definition': ''\n",
    "                   }, ignore_index=True)\n",
    "\n",
    "\n",
    "defs = defs.append({'promptName': 'Dehumanization', 'name': 'dehumanize', \n",
    "                    'definition': 'the process of depriving a person or group of positive human qualities.'\n",
    "                   }, ignore_index=True)\n",
    "\n",
    "defs = defs.append({'promptName': 'Violent language', 'name': 'violence', \n",
    "                    'definition': 'calling for the unlawful exercise of physical force or intimidation by the exhibition of such force on a large group of people.'\n",
    "                   }, ignore_index=True)\n",
    "\n",
    "defs = defs.append({'promptName': 'Genocide', 'name': 'genocide', \n",
    "                    'definition': 'calling for the deliberate killing of a large group of people.'\n",
    "                   }, ignore_index=True)\n",
    "\n",
    "defs = defs.append({'promptName': 'Respect', 'name': 'respect', \n",
    "                    'definition': 'a feeling of deep admiration for someone or something elicited by their abilities, qualities, or achievements.'\n",
    "                   }, ignore_index=True)\n",
    "defs = defs.append({'promptName': 'Insult', 'name': 'insult', \n",
    "                    'definition': 'to speak to or treat with disrespect or scornful abuse.'\n",
    "                   }, ignore_index=True)\n",
    "\n",
    "defs = defs.append({'promptName': 'Humiliation', 'name': 'humiliate', \n",
    "                    'definition': 'making (someone) feel ashamed and foolish by injuring their dignity and self-respect, especially publicly.'\n",
    "                   }, ignore_index=True)\n",
    "\n",
    "defs = defs.append({'promptName': 'Superiority', 'name': 'status', \n",
    "                    'definition': 'higher in rank, status, or quality.'\n",
    "                   }, ignore_index=True)\n",
    "defs = defs.append({'promptName': 'Attack', 'name': 'attack_defend', \n",
    "                    'definition': 'an aggressive and violent action against a person or place, and defense is defined as speak or write in favor of (an action or person); attempt to justify.'\n",
    "                   }, ignore_index=True)"
   ]
  },
  {
   "cell_type": "code",
   "execution_count": 5,
   "id": "e46f0b5d",
   "metadata": {},
   "outputs": [],
   "source": [
    "train_implicit = pd.read_csv('data/train_full.tsv', delimiter='\\t')\n",
    "train_sbic = pd.read_csv(\"data/SBIC.v2/SBIC.v2.agg.trn.csv\")\n",
    "\n",
    "val_implicit = pd.read_csv('data/validation_full.tsv', delimiter='\\t')\n",
    "val_sbic = pd.read_csv(\"data/SBIC.v2/SBIC.v2.agg.dev.csv\")"
   ]
  },
  {
   "cell_type": "code",
   "execution_count": 6,
   "id": "f660079e",
   "metadata": {},
   "outputs": [
    {
     "name": "stderr",
     "output_type": "stream",
     "text": [
      "100%|█████████████████████████████████████████████████████████| 35424/35424 [00:04<00:00, 8793.82it/s]\n",
      "100%|█████████████████████████████████████████████████████████| 35424/35424 [00:04<00:00, 8528.26it/s]\n",
      "100%|█████████████████████████████████████████████████████████| 35424/35424 [00:04<00:00, 8729.58it/s]\n",
      "100%|██████████████████████████████████████████████████████████| 4386/4386 [00:00<00:00, 17570.07it/s]\n",
      "100%|██████████████████████████████████████████████████████████| 4386/4386 [00:00<00:00, 17618.52it/s]\n",
      "100%|██████████████████████████████████████████████████████████| 4386/4386 [00:00<00:00, 17387.02it/s]\n",
      "100%|██████████████████████████████████████████████████████████| 4386/4386 [00:00<00:00, 17435.37it/s]\n",
      "100%|██████████████████████████████████████████████████████████| 4386/4386 [00:00<00:00, 17430.99it/s]\n",
      "100%|██████████████████████████████████████████████████████████| 4386/4386 [00:00<00:00, 17463.99it/s]\n",
      "100%|██████████████████████████████████████████████████████████| 4386/4386 [00:00<00:00, 17517.20it/s]\n",
      "100%|███████████████████████████████████████████████████████████| 4666/4666 [00:00<00:00, 8769.94it/s]\n",
      "100%|███████████████████████████████████████████████████████████| 4666/4666 [00:00<00:00, 8572.46it/s]\n",
      "100%|███████████████████████████████████████████████████████████| 4666/4666 [00:00<00:00, 8672.98it/s]\n",
      "100%|████████████████████████████████████████████████████████████| 277/277 [00:00<00:00, 17546.47it/s]\n",
      "100%|████████████████████████████████████████████████████████████| 277/277 [00:00<00:00, 16143.82it/s]\n",
      "100%|████████████████████████████████████████████████████████████| 277/277 [00:00<00:00, 16913.01it/s]\n",
      "100%|████████████████████████████████████████████████████████████| 277/277 [00:00<00:00, 16963.14it/s]\n",
      "100%|████████████████████████████████████████████████████████████| 277/277 [00:00<00:00, 16595.33it/s]\n",
      "100%|████████████████████████████████████████████████████████████| 277/277 [00:00<00:00, 16303.07it/s]\n",
      "100%|████████████████████████████████████████████████████████████| 277/277 [00:00<00:00, 16987.94it/s]\n"
     ]
    }
   ],
   "source": [
    "implicit_labels = ['white_grievance','incitement', 'inferiority', 'stereotypical', 'irony', 'threatening', 'other']\n",
    "\n",
    "sbic_labels = ['offensiveYN', 'intentYN', 'whoTarget']\n",
    "\n",
    "_, train_sbic_enc = tw.preprocess_prompt(train_sbic, t='continuous', target=sbic_labels, defs=defs, include_def=False, id_col='Unnamed: 0')\n",
    "_, train_implicit_enc = tw.preprocess_prompt(train_implicit[~train_implicit['implicit_class'].isna()], t='implicit', target=implicit_labels, defs=defs, include_def=False, id_col='id')\n",
    "_, val_sbic_enc = tw.preprocess_prompt(val_sbic, t='continuous', target=sbic_labels, defs=defs, include_def=False, id_col='Unnamed: 0')\n",
    "_, val_implicit_enc = tw.preprocess_prompt(val_implicit[~val_implicit['implicit_class'].isna()], t='implicit', target=implicit_labels, defs=defs, include_def=False, id_col='id')\n"
   ]
  },
  {
   "cell_type": "code",
   "execution_count": 8,
   "id": "ce07d2df",
   "metadata": {},
   "outputs": [
    {
     "data": {
      "text/plain": [
       "Counter({'social': 642,\n",
       "         'culture': 2471,\n",
       "         'gender': 3535,\n",
       "         'disabled': 753,\n",
       "         'race': 3883,\n",
       "         'victim': 2027,\n",
       "         'body': 441})"
      ]
     },
     "execution_count": 8,
     "metadata": {},
     "output_type": "execute_result"
    }
   ],
   "source": [
    "from collections import Counter\n",
    "from ast import literal_eval\n",
    "\n",
    "# _, train_implicit_enc = tw.preprocess_prompt(train_implicit, t='implicit', target=implicit_labels, defs=defs, include_def=False, id_col='id')\n",
    "target_categories = list(set([x for y in train_sbic['targetCategory'] for x in literal_eval(y)]))\n",
    "\n",
    "Counter([x for y in train_sbic['targetCategory'] for x in literal_eval(y)])"
   ]
  },
  {
   "cell_type": "code",
   "execution_count": null,
   "id": "2d5afa98",
   "metadata": {},
   "outputs": [],
   "source": []
  },
  {
   "cell_type": "code",
   "execution_count": 9,
   "id": "3797c3c2",
   "metadata": {},
   "outputs": [],
   "source": [
    "\n",
    "import html\n",
    "import re\n",
    "\n",
    "\n",
    "\n",
    "def process_alpaca(text, label, instruction=None):\n",
    "#     instruction = defs\n",
    "    \n",
    "    out = {'instruction': [],\n",
    "           'input': [],\n",
    "           'output': []\n",
    "          \n",
    "          }\n",
    "    \n",
    "    for i in range(len(text)):\n",
    "        \n",
    "        outp = label[i]\n",
    "            \n",
    "        inp = text[i].strip()\n",
    "        inp = re.sub(r'(u/.*? |@.*?( |$))', \"<user> \", inp)\n",
    "        inp = re.sub(r'\\u2019', \"'\", inp)\n",
    "        inp = re.sub(r'[“”]', '\"', inp)\n",
    "        inp = re.sub(r'\\\\u[a-f0-9]{4}', \"'\", inp)\n",
    "        inp = re.sub(r'\\(https://.*\\)', \"(URL)\", inp)\n",
    "\n",
    "        inp = re.sub(r'[\\s]{2,}', \" \", inp)\n",
    "        inp = html.unescape(inp).encode('ascii', errors='ignore').decode()\n",
    "        \n",
    "        if type(instruction) is str:\n",
    "            out['instruction'].append(instruction)\n",
    "        elif type(instruction) is list:\n",
    "            out['instruction'].append(instruction[i])\n",
    "            \n",
    "        out['input'].append(inp)\n",
    "        out['output'].append(outp)\n",
    "    return out"
   ]
  },
  {
   "cell_type": "code",
   "execution_count": 10,
   "id": "ae499b6e",
   "metadata": {},
   "outputs": [],
   "source": [
    "\n",
    "def openprompt_to_prompt(test_enc):\n",
    "    instructions = []\n",
    "    test_prompt = []\n",
    "    \n",
    "    output = []\n",
    "    \n",
    "    for i in range(len(test_enc)):\n",
    "        ins = '{target} is defined as {target_def}'.format(target=test_enc[i].meta['target'],\n",
    "                                                                         target_def=test_enc[i].meta['definition'])\n",
    "        if test_enc[i].meta['target_groups'] is not None:\n",
    "            ins += 'Target groups include {0}'.format(', '.join(test_enc[i].meta['target_groups']))\n",
    "        instructions.append(ins)\n",
    "        test_prompt.append('Post:{text} Q: Is this post a violation of {target}? Please answer Yes, No, or Unclear. A: '.format(\n",
    "            target=test_enc[i].meta['target'], \n",
    "            target_def=test_enc[i].meta['definition'],\n",
    "            text=test_enc[i].text_a))\n",
    "        \n",
    "        output.append(('Yes' if test_enc[i].label == 2 else ('Unclear' if test_enc[i].label == 1 else 'No')))\n",
    "    return process_alpaca(test_prompt, output, instructions)"
   ]
  },
  {
   "cell_type": "code",
   "execution_count": 11,
   "id": "087b59be",
   "metadata": {},
   "outputs": [
    {
     "data": {
      "text/plain": [
       "({\n",
       "   \"guid\": \"35503\",\n",
       "   \"label\": 2,\n",
       "   \"meta\": {\n",
       "     \"definition\": \"targeting a person by implicating a group they belong to. Group implications are distinguished from individual-only attacks or insults that do not invoke power dynamics between groups.\",\n",
       "     \"target\": \"Group implications\",\n",
       "     \"target_groups\": null\n",
       "   },\n",
       "   \"text_a\": \"\\ud83d\\udea8BREAKING: illegal alien 5x deported on 7 felonies found not guilty in the murder of Kate Steinle who he shot with a gun\\n\\nJury full of communists just allowed a foreigner to execute an American citizen without repercussion\\n\\nThis is a glimpse into the future if we don\\u2019t take drastic measures\",\n",
       "   \"text_b\": \"\",\n",
       "   \"tgt_text\": null\n",
       " },\n",
       " Unnamed: 0                                                          35503\n",
       " post                    🚨BREAKING: illegal alien 5x deported on 7 felo...\n",
       " targetMinority                                             [\"immigrants\"]\n",
       " targetCategory                                                [\"culture\"]\n",
       " targetStereotype        [\"immigrants are criminals\", \"immigrants are m...\n",
       " whoTarget                                                             1.0\n",
       " intentYN                                                             0.33\n",
       " sexYN                                                                 0.0\n",
       " offensiveYN                                                           1.0\n",
       " dataSource                                                            Gab\n",
       " hasBiasedImplication                                                    0\n",
       " Name: 35423, dtype: object)"
      ]
     },
     "execution_count": 11,
     "metadata": {},
     "output_type": "execute_result"
    }
   ],
   "source": [
    "train_sbic_enc[-1], train_sbic.iloc[-1]"
   ]
  },
  {
   "cell_type": "code",
   "execution_count": 12,
   "id": "ae4e843a",
   "metadata": {},
   "outputs": [
    {
     "data": {
      "text/plain": [
       "Counter({2: 36678, 0: 38587, 1: 31007})"
      ]
     },
     "execution_count": 12,
     "metadata": {},
     "output_type": "execute_result"
    }
   ],
   "source": [
    "Counter([x.label for x in train_sbic_enc])"
   ]
  },
  {
   "cell_type": "code",
   "execution_count": 13,
   "id": "41598f98",
   "metadata": {},
   "outputs": [],
   "source": [
    "train_sbic_prompt = openprompt_to_prompt(train_sbic_enc)"
   ]
  },
  {
   "cell_type": "code",
   "execution_count": 14,
   "id": "9e3551bf",
   "metadata": {},
   "outputs": [],
   "source": [
    "from datasets import Dataset\n",
    "\n",
    "train_sbic_prompt = Dataset.from_dict(train_sbic_prompt)"
   ]
  },
  {
   "cell_type": "code",
   "execution_count": 15,
   "id": "06165409",
   "metadata": {},
   "outputs": [],
   "source": [
    "train_implicit_prompt = Dataset.from_dict(openprompt_to_prompt(train_implicit_enc))"
   ]
  },
  {
   "cell_type": "code",
   "execution_count": 16,
   "id": "81a90424",
   "metadata": {},
   "outputs": [
    {
     "data": {
      "text/plain": [
       "{'instruction': 'White Grievance is defined as frustration over a minority group’s perceived privilege and casting majority groups as the real victims of racism. This language is linked to extremist behavior and support for violence.',\n",
       " 'input': 'Post:people are upset on the cow protection issue pl . save your core support base muslims do not vote for you Q: Is this post a violation of White Grievance? Please answer Yes, No, or Unclear. A:',\n",
       " 'output': 'No'}"
      ]
     },
     "execution_count": 16,
     "metadata": {},
     "output_type": "execute_result"
    }
   ],
   "source": [
    "train_implicit_prompt[0]"
   ]
  },
  {
   "cell_type": "code",
   "execution_count": 17,
   "id": "cc5a66e6",
   "metadata": {},
   "outputs": [
    {
     "data": {
      "application/vnd.jupyter.widget-view+json": {
       "model_id": "fe4e5cddf1e44971a4261f6ea278280a",
       "version_major": 2,
       "version_minor": 0
      },
      "text/plain": [
       "Creating json from Arrow format:   0%|          | 0/7 [00:00<?, ?ba/s]"
      ]
     },
     "metadata": {},
     "output_type": "display_data"
    },
    {
     "data": {
      "text/plain": [
       "26987147"
      ]
     },
     "execution_count": 17,
     "metadata": {},
     "output_type": "execute_result"
    }
   ],
   "source": [
    "from datasets import interleave_datasets\n",
    "\n",
    "interleave_datasets([train_sbic_prompt.shuffle(), train_implicit_prompt.shuffle()]).to_json('crosstask.json')"
   ]
  },
  {
   "cell_type": "code",
   "execution_count": 18,
   "id": "5b733e7b",
   "metadata": {},
   "outputs": [
    {
     "data": {
      "application/vnd.jupyter.widget-view+json": {
       "model_id": "6243f3c682c8468b94e041d6a9a18628",
       "version_major": 2,
       "version_minor": 0
      },
      "text/plain": [
       "Creating json from Arrow format:   0%|          | 0/11 [00:00<?, ?ba/s]"
      ]
     },
     "metadata": {},
     "output_type": "display_data"
    },
    {
     "data": {
      "text/plain": [
       "44204674"
      ]
     },
     "execution_count": 18,
     "metadata": {},
     "output_type": "execute_result"
    }
   ],
   "source": [
    "train_sbic_prompt.to_json('train_sbic.json')\n"
   ]
  },
  {
   "cell_type": "code",
   "execution_count": 19,
   "id": "48fb8974",
   "metadata": {},
   "outputs": [
    {
     "data": {
      "application/vnd.jupyter.widget-view+json": {
       "model_id": "1eabf4acabf64788a2fc08ea462050be",
       "version_major": 2,
       "version_minor": 0
      },
      "text/plain": [
       "Creating json from Arrow format:   0%|          | 0/4 [00:00<?, ?ba/s]"
      ]
     },
     "metadata": {},
     "output_type": "display_data"
    },
    {
     "data": {
      "text/plain": [
       "14222837"
      ]
     },
     "execution_count": 19,
     "metadata": {},
     "output_type": "execute_result"
    }
   ],
   "source": [
    "train_implicit_prompt.to_json('train_implicit.json')"
   ]
  },
  {
   "cell_type": "code",
   "execution_count": null,
   "id": "0f0b248f",
   "metadata": {},
   "outputs": [],
   "source": [
    "instruction = '{target} is defined as {target_def}. Is this post a violation of any of the above definitions? Please answer Yes/No, and which policies. If there is no violations, output N/A.'\n",
    "        "
   ]
  }
 ],
 "metadata": {
  "kernelspec": {
   "display_name": "Python 3 (ipykernel)",
   "language": "python",
   "name": "python3"
  },
  "language_info": {
   "codemirror_mode": {
    "name": "ipython",
    "version": 3
   },
   "file_extension": ".py",
   "mimetype": "text/x-python",
   "name": "python",
   "nbconvert_exporter": "python",
   "pygments_lexer": "ipython3",
   "version": "3.8.5"
  }
 },
 "nbformat": 4,
 "nbformat_minor": 5
}
